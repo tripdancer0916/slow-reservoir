{
 "cells": [
  {
   "cell_type": "markdown",
   "metadata": {},
   "source": [
    "## 概要\n",
    "priorとlikelihoodに関する情報をコードしているニューロンの役割分担がどの程度行われているのかを定量化する。\n",
    "\n",
    "あるニューロンの時間発展 $x(t)$ を考える。環境変化を $E(t)$ とする。\n",
    "\n",
    "- likelihoodのcoding率: 同一のEにおける $x(t)$ の分散 $\\langle x^2\\rangle - \\langle x\\rangle^2 $の異なるEに関する平均\n",
    "- priorのcoding率: 同一のEにおける$x(t)$の平均$[x(t)]$の異なるEに関する分散"
   ]
  },
  {
   "cell_type": "code",
   "execution_count": 1,
   "metadata": {},
   "outputs": [],
   "source": [
    "import os\n",
    "import math\n",
    "\n",
    "import matplotlib\n",
    "import numpy as np\n",
    "import sys\n",
    "import scipy\n",
    "import yaml\n",
    "\n",
    "from sklearn.metrics import mean_squared_error\n",
    "\n",
    "sys.path.append('../')\n",
    "import torch\n",
    "import torch.nn as nn\n",
    "import torch.nn.functional as F\n",
    "\n",
    "import matplotlib.pyplot as plt\n",
    "from mpl_toolkits.mplot3d import Axes3D\n",
    "\n",
    "from sklearn.decomposition import PCA\n",
    "from matplotlib import cm\n",
    "\n",
    "from slow_reservoir.model import RNN, RNNSimple\n",
    "from slow_reservoir.dataset.dynamic_state import State\n",
    "\n",
    "%matplotlib inline"
   ]
  },
  {
   "cell_type": "code",
   "execution_count": 37,
   "metadata": {},
   "outputs": [],
   "source": [
    "state_list = [\n",
    "    State(mu=0.5, sigma=0.04),\n",
    "    State(mu=0.5, sigma=0.3),\n",
    "    State(mu=0.5, sigma=0.04),\n",
    "    State(mu=0.5, sigma=0.8),\n",
    "]"
   ]
  },
  {
   "cell_type": "code",
   "execution_count": 38,
   "metadata": {},
   "outputs": [],
   "source": [
    "def make_signal(N, time_length, state_list, uncertainty=0.5):\n",
    "    input_signals = np.zeros([N, time_length, 100])\n",
    "    phi = np.linspace(-2, 2, 100)\n",
    "    sigma_sq = 0.5\n",
    "    target_list = np.zeros([N, 400])\n",
    "    signal_mu_list = np.zeros((N, time_length))\n",
    "    true_signal_list = np.zeros((N, time_length))\n",
    "    \n",
    "    for i in range(N):\n",
    "        signal_input = np.zeros([time_length, 100])\n",
    "        for t in range(time_length):\n",
    "            true_signal = state_list[(t // 40) % 3]()\n",
    "            true_signal_list[i, t] = true_signal\n",
    "            # true_signal = state_list[2]()\n",
    "            g = 2\n",
    "            signal_sigma = np.sqrt(1 / g) * uncertainty\n",
    "            signal_mu = np.random.normal(true_signal, signal_sigma)\n",
    "            signal_mu_list[i, t] = signal_mu\n",
    "            \n",
    "            signal_base = g * 1 * np.exp(-(signal_mu - phi) ** 2 / (2.0 * sigma_sq))\n",
    "            signal_input[t] = np.random.poisson(signal_base)\n",
    "        \n",
    "        input_signals[i] = signal_input\n",
    "        # signal_mu_list.append(signal_mu)\n",
    "        \n",
    "    return input_signals, true_signal_list, signal_mu_list"
   ]
  },
  {
   "cell_type": "code",
   "execution_count": 39,
   "metadata": {},
   "outputs": [
    {
     "name": "stdout",
     "output_type": "stream",
     "text": [
      "model_name:  20220423_2\n"
     ]
    },
    {
     "data": {
      "text/plain": [
       "RNN(\n",
       "  (w_in): Linear(in_features=100, out_features=200, bias=True)\n",
       "  (w_hh): Linear(in_features=200, out_features=200, bias=True)\n",
       "  (w_out): Linear(in_features=200, out_features=1, bias=True)\n",
       "  (w_fs): Linear(in_features=200, out_features=50, bias=True)\n",
       "  (w_sf): Linear(in_features=50, out_features=200, bias=True)\n",
       "  (w_reservoir): Linear(in_features=50, out_features=50, bias=True)\n",
       "  (w_prior): Linear(in_features=50, out_features=100, bias=True)\n",
       ")"
      ]
     },
     "execution_count": 39,
     "metadata": {},
     "output_type": "execute_result"
    }
   ],
   "source": [
    "config_path = '../slow_reservoir/trained_model/dynamic_state/20220423_2/20220423_2.cfg'\n",
    "with open(config_path, 'r') as f:\n",
    "    cfg = yaml.safe_load(f)\n",
    "    \n",
    "\n",
    "model_name = os.path.splitext(os.path.basename(config_path))[0]\n",
    "print('model_name: ', model_name)\n",
    "\n",
    "torch.manual_seed(1)\n",
    "device = torch.device('cpu')\n",
    "\n",
    "model = RNN(\n",
    "    n_in=cfg['DATALOADER']['INPUT_NEURON'],\n",
    "    n_out=1,\n",
    "    n_hid=cfg['MODEL']['SIZE'],\n",
    "    n_reservoir=cfg['MODEL']['RESERVOIR'],\n",
    "    device=device,\n",
    "    alpha_fast=cfg['MODEL']['ALPHA_FAST'],\n",
    "    alpha_slow=cfg['MODEL']['ALPHA_SLOW'],\n",
    "    sigma_neu=cfg['MODEL']['SIGMA_NEU'],\n",
    ").to(device)\n",
    "\n",
    "model_path = f'../slow_reservoir/trained_model/dynamic_state/{model_name}/epoch_400.pth'\n",
    "model.load_state_dict(torch.load(model_path, map_location=device))\n",
    "model.eval()\n",
    "\n"
   ]
  },
  {
   "cell_type": "code",
   "execution_count": 40,
   "metadata": {},
   "outputs": [],
   "source": [
    "sample_num = 1000\n",
    "input_signal, true_signal_list, signal_mu_list = make_signal(\n",
    "    sample_num, \n",
    "    state_list=state_list,\n",
    "    time_length=120, \n",
    "    uncertainty=0.5,\n",
    ")\n",
    "\n",
    "inputs = torch.from_numpy(input_signal).float()                                               \n",
    "inputs = inputs.to(device) \n",
    "\n",
    "hidden_np = np.random.normal(0, 0.5, size=(sample_num, cfg['MODEL']['SIZE']))\n",
    "reservoir_np = np.random.normal(0, 0.5, size=(sample_num, cfg['MODEL']['RESERVOIR']))\n",
    "             \n",
    "\n",
    "# priorなしのモデルによる推論\n",
    "hidden = torch.from_numpy(hidden_np).float()                               \n",
    "hidden = hidden.to(device) \n",
    "reservoir = torch.from_numpy(reservoir_np).float()\n",
    "reservoir = reservoir.to(device)\n",
    "hidden_list, outputs, prior_list, reservoir_list = model(inputs, hidden, reservoir, 120)                                                     \n",
    "neural_dynamics = hidden_list.cpu().detach().numpy()   \n",
    "reservoir_dynamics = reservoir_list.cpu().detach().numpy()\n"
   ]
  },
  {
   "cell_type": "code",
   "execution_count": 41,
   "metadata": {},
   "outputs": [
    {
     "data": {
      "text/plain": [
       "[<matplotlib.lines.Line2D at 0x7fe893e9b0f0>]"
      ]
     },
     "execution_count": 41,
     "metadata": {},
     "output_type": "execute_result"
    },
    {
     "data": {
      "image/png": "[encoded data removed]",
      "text/plain": [
       "<Figure size 432x288 with 1 Axes>"
      ]
     },
     "metadata": {},
     "output_type": "display_data"
    }
   ],
   "source": [
    "plt.plot(neural_dynamics[0, :, 129])\n",
    "plt.plot(neural_dynamics[0, :, 8])\n",
    "plt.plot(neural_dynamics[0, :, 120])\n",
    "plt.plot(neural_dynamics[0, :, 14])\n",
    "plt.plot(neural_dynamics[0, :, 16])"
   ]
  },
  {
   "cell_type": "code",
   "execution_count": 42,
   "metadata": {},
   "outputs": [
    {
     "data": {
      "text/plain": [
       "[<matplotlib.lines.Line2D at 0x7fe894c25a20>]"
      ]
     },
     "execution_count": 42,
     "metadata": {},
     "output_type": "execute_result"
    },
    {
     "data": {
      "image/png": "[encoded data removed]",
      "text/plain": [
       "<Figure size 432x288 with 1 Axes>"
      ]
     },
     "metadata": {},
     "output_type": "display_data"
    }
   ],
   "source": [
    "plt.plot(reservoir_dynamics[0, :, 6])\n",
    "plt.plot(reservoir_dynamics[0, :, 1])\n",
    "plt.plot(reservoir_dynamics[0, :, 8])\n",
    "plt.plot(reservoir_dynamics[0, :, 40])"
   ]
  },
  {
   "cell_type": "markdown",
   "metadata": {},
   "source": [
    "### Calculation"
   ]
  },
  {
   "cell_type": "code",
   "execution_count": 43,
   "metadata": {},
   "outputs": [],
   "source": [
    "var_activity_list = []\n",
    "mean_activity_list = []\n",
    "for i in range(3):\n",
    "    E_time_series = neural_dynamics[:, i*40:(i+1)*40, 6].reshape(1000*40)\n",
    "    var_activity_list.append(np.var(E_time_series))\n",
    "    mean_activity_list.append(np.mean(E_time_series))"
   ]
  },
  {
   "cell_type": "code",
   "execution_count": 44,
   "metadata": {},
   "outputs": [
    {
     "data": {
      "text/plain": [
       "4702.5728"
      ]
     },
     "execution_count": 44,
     "metadata": {},
     "output_type": "execute_result"
    }
   ],
   "source": [
    "np.mean(var_activity_list) / np.var(mean_activity_list)"
   ]
  },
  {
   "cell_type": "code",
   "execution_count": 45,
   "metadata": {},
   "outputs": [
    {
     "name": "stdout",
     "output_type": "stream",
     "text": [
      "14482.333\n"
     ]
    }
   ],
   "source": [
    "var_activity_list = []\n",
    "mean_activity_list = []\n",
    "for i in range(3):\n",
    "    E_time_series = neural_dynamics[:, i*40:(i+1)*40, 0].reshape(1000*40)\n",
    "    var_activity_list.append(np.var(E_time_series))\n",
    "    mean_activity_list.append(np.mean(E_time_series))\n",
    "    \n",
    "print(np.mean(var_activity_list) / np.var(mean_activity_list))"
   ]
  },
  {
   "cell_type": "code",
   "execution_count": 46,
   "metadata": {},
   "outputs": [
    {
     "data": {
      "text/plain": [
       "0.40884352"
      ]
     },
     "execution_count": 46,
     "metadata": {},
     "output_type": "execute_result"
    }
   ],
   "source": [
    "np.max(E_time_series)"
   ]
  },
  {
   "cell_type": "code",
   "execution_count": 47,
   "metadata": {},
   "outputs": [
    {
     "name": "stdout",
     "output_type": "stream",
     "text": [
      "85.27148\n"
     ]
    }
   ],
   "source": [
    "var_activity_list = []\n",
    "mean_activity_list = []\n",
    "for i in range(3):\n",
    "    E_time_series = neural_dynamics[:, i*40:(i+1)*40, 13].reshape(1000*40)\n",
    "    var_activity_list.append(np.var(E_time_series))\n",
    "    mean_activity_list.append(np.mean(E_time_series))\n",
    "    \n",
    "print(np.mean(var_activity_list) / np.var(mean_activity_list))"
   ]
  },
  {
   "cell_type": "code",
   "execution_count": 48,
   "metadata": {},
   "outputs": [
    {
     "name": "stdout",
     "output_type": "stream",
     "text": [
      "3105.6047\n"
     ]
    }
   ],
   "source": [
    "var_activity_list = []\n",
    "mean_activity_list = []\n",
    "for i in range(3):\n",
    "    E_time_series = neural_dynamics[:, i*40:(i+1)*40, 16].reshape(1000*40)\n",
    "    var_activity_list.append(np.var(E_time_series))\n",
    "    mean_activity_list.append(np.mean(E_time_series))\n",
    "    \n",
    "print(np.mean(var_activity_list) / np.var(mean_activity_list))"
   ]
  },
  {
   "cell_type": "code",
   "execution_count": 49,
   "metadata": {},
   "outputs": [
    {
     "name": "stdout",
     "output_type": "stream",
     "text": [
      "11.324573\n"
     ]
    }
   ],
   "source": [
    "var_activity_list = []\n",
    "mean_activity_list = []\n",
    "for i in range(3):\n",
    "    E_time_series = reservoir_dynamics[:, i*40:(i+1)*40, 1].reshape(1000*40)\n",
    "    var_activity_list.append(np.var(E_time_series))\n",
    "    mean_activity_list.append(np.mean(E_time_series))\n",
    "    \n",
    "print(np.mean(var_activity_list) / np.var(mean_activity_list))"
   ]
  },
  {
   "cell_type": "code",
   "execution_count": 50,
   "metadata": {},
   "outputs": [
    {
     "name": "stdout",
     "output_type": "stream",
     "text": [
      "18745.75\n"
     ]
    }
   ],
   "source": [
    "var_activity_list = []\n",
    "mean_activity_list = []\n",
    "for i in range(3):\n",
    "    E_time_series = reservoir_dynamics[:, i*40:(i+1)*40, 0].reshape(1000*40)\n",
    "    var_activity_list.append(np.var(E_time_series))\n",
    "    mean_activity_list.append(np.mean(E_time_series))\n",
    "    \n",
    "print(np.mean(var_activity_list) / np.var(mean_activity_list))"
   ]
  },
  {
   "cell_type": "code",
   "execution_count": 51,
   "metadata": {},
   "outputs": [
    {
     "name": "stdout",
     "output_type": "stream",
     "text": [
      "1502.3839\n"
     ]
    }
   ],
   "source": [
    "var_activity_list = []\n",
    "mean_activity_list = []\n",
    "for i in range(3):\n",
    "    E_time_series = reservoir_dynamics[:, i*40:(i+1)*40, 3].reshape(1000*40)\n",
    "    var_activity_list.append(np.var(E_time_series))\n",
    "    mean_activity_list.append(np.mean(E_time_series))\n",
    "    \n",
    "print(np.mean(var_activity_list) / np.var(mean_activity_list))"
   ]
  },
  {
   "cell_type": "code",
   "execution_count": 52,
   "metadata": {},
   "outputs": [
    {
     "data": {
      "text/plain": [
       "0.7646691"
      ]
     },
     "execution_count": 52,
     "metadata": {},
     "output_type": "execute_result"
    }
   ],
   "source": [
    "np.max(neural_dynamics[:, :, 0])"
   ]
  },
  {
   "cell_type": "markdown",
   "metadata": {},
   "source": [
    "#### fast neuron側"
   ]
  },
  {
   "cell_type": "code",
   "execution_count": 53,
   "metadata": {},
   "outputs": [],
   "source": [
    "coding_ratio_dict = {}\n",
    "for i in range(cfg['MODEL']['SIZE']):\n",
    "    if np.max(neural_dynamics[:, :, i]) < 1:\n",
    "        continue\n",
    "    var_activity_list = []\n",
    "    mean_activity_list = []\n",
    "    for j in range(3):\n",
    "        E_time_series = neural_dynamics[:, j*40:(j+1)*40, i].reshape(1000*40)\n",
    "        var_activity_list.append(np.var(E_time_series))\n",
    "        mean_activity_list.append(np.mean(E_time_series))\n",
    "       \n",
    "    coding_ratio = np.mean(var_activity_list) / np.var(mean_activity_list)\n",
    "    if coding_ratio >= 20:\n",
    "        continue\n",
    "    coding_ratio_dict[i] = np.mean(var_activity_list) / np.var(mean_activity_list)"
   ]
  },
  {
   "cell_type": "code",
   "execution_count": 54,
   "metadata": {},
   "outputs": [
    {
     "data": {
      "image/png": "[encoded data removed]",
      "text/plain": [
       "<Figure size 432x288 with 1 Axes>"
      ]
     },
     "metadata": {},
     "output_type": "display_data"
    }
   ],
   "source": [
    "plt.hist(coding_ratio_dict.values(), bins=50, range=(0, 5))\n",
    "plt.show()"
   ]
  },
  {
   "cell_type": "markdown",
   "metadata": {},
   "source": [
    "#### sub-network側"
   ]
  },
  {
   "cell_type": "code",
   "execution_count": 55,
   "metadata": {},
   "outputs": [],
   "source": [
    "reservoir_coding_ratio_dict = {}\n",
    "for i in range(cfg['MODEL']['RESERVOIR']):\n",
    "    if np.max(reservoir_dynamics[:, :, i]) < 1:\n",
    "        continue\n",
    "    var_activity_list = []\n",
    "    mean_activity_list = []\n",
    "    for j in range(3):\n",
    "        E_time_series = reservoir_dynamics[:, j*40:(j+1)*40, i].reshape(1000*40)\n",
    "        var_activity_list.append(np.var(E_time_series))\n",
    "        mean_activity_list.append(np.mean(E_time_series))\n",
    "       \n",
    "    coding_ratio = np.mean(var_activity_list) / np.var(mean_activity_list)\n",
    "    if coding_ratio >= 20:\n",
    "        continue\n",
    "    reservoir_coding_ratio_dict[i] = np.mean(var_activity_list) / np.var(mean_activity_list)"
   ]
  },
  {
   "cell_type": "code",
   "execution_count": 58,
   "metadata": {},
   "outputs": [
    {
     "data": {
      "image/png": "[encoded data removed]",
      "text/plain": [
       "<Figure size 432x288 with 1 Axes>"
      ]
     },
     "metadata": {},
     "output_type": "display_data"
    }
   ],
   "source": [
    "plt.hist(coding_ratio_dict.values(), bins=10, range=(0, 10), alpha=0.5)\n",
    "plt.hist(reservoir_coding_ratio_dict.values(), bins=10, range=(0, 10), alpha=0.5)\n",
    "plt.show()"
   ]
  },
  {
   "cell_type": "code",
   "execution_count": 57,
   "metadata": {},
   "outputs": [
    {
     "data": {
      "text/plain": [
       "{4: 16.444723,\n",
       " 9: 10.407094,\n",
       " 34: 16.408588,\n",
       " 47: 8.242886,\n",
       " 60: 9.566438,\n",
       " 65: 5.6887674,\n",
       " 95: 16.0624,\n",
       " 102: 5.599483,\n",
       " 119: 3.5169795,\n",
       " 120: 3.8785038,\n",
       " 123: 5.6291656,\n",
       " 124: 10.838609,\n",
       " 129: 2.5468342,\n",
       " 130: 10.483935,\n",
       " 142: 14.570848,\n",
       " 149: 11.362891,\n",
       " 157: 4.5913086,\n",
       " 167: 10.399809,\n",
       " 176: 7.5550222,\n",
       " 182: 3.033492,\n",
       " 194: 18.370947}"
      ]
     },
     "execution_count": 57,
     "metadata": {},
     "output_type": "execute_result"
    }
   ],
   "source": [
    "coding_ratio_dict"
   ]
  },
  {
   "cell_type": "code",
   "execution_count": 35,
   "metadata": {},
   "outputs": [
    {
     "data": {
      "text/plain": [
       "{1: 8.424456,\n",
       " 6: 7.806266,\n",
       " 8: 1.3348302,\n",
       " 9: 5.168859,\n",
       " 13: 1.1712748,\n",
       " 17: 0.89356244,\n",
       " 27: 2.51993,\n",
       " 29: 5.5414834,\n",
       " 30: 3.4365036,\n",
       " 32: 1.2391472,\n",
       " 33: 0.64312536,\n",
       " 34: 0.4662935,\n",
       " 35: 4.546995,\n",
       " 37: 0.78705907,\n",
       " 38: 4.2961817,\n",
       " 39: 3.6624198,\n",
       " 40: 0.42262542,\n",
       " 41: 12.304073,\n",
       " 47: 2.2231982,\n",
       " 49: 2.5140595}"
      ]
     },
     "execution_count": 35,
     "metadata": {},
     "output_type": "execute_result"
    }
   ],
   "source": [
    "reservoir_coding_ratio_dict"
   ]
  },
  {
   "cell_type": "code",
   "execution_count": null,
   "metadata": {},
   "outputs": [],
   "source": []
  }
 ],
 "metadata": {
  "kernelspec": {
   "display_name": "Python 3",
   "language": "python",
   "name": "python3"
  },
  "language_info": {
   "codemirror_mode": {
    "name": "ipython",
    "version": 3
   },
   "file_extension": ".py",
   "mimetype": "text/x-python",
   "name": "python",
   "nbconvert_exporter": "python",
   "pygments_lexer": "ipython3",
   "version": "3.6.4"
  }
 },
 "nbformat": 4,
 "nbformat_minor": 2
}

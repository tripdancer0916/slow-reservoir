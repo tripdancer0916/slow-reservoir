{
 "cells": [
  {
   "cell_type": "code",
   "execution_count": 1,
   "metadata": {},
   "outputs": [],
   "source": [
    "import os\n",
    "import math\n",
    "\n",
    "import matplotlib\n",
    "import numpy as np\n",
    "import sys\n",
    "import scipy\n",
    "import yaml\n",
    "\n",
    "from sklearn.metrics import mean_squared_error\n",
    "\n",
    "sys.path.append('../')\n",
    "import torch\n",
    "import torch.nn as nn\n",
    "import torch.nn.functional as F\n",
    "\n",
    "import matplotlib.pyplot as plt\n",
    "from mpl_toolkits.mplot3d import Axes3D\n",
    "\n",
    "from sklearn.decomposition import PCA\n",
    "from matplotlib import cm\n",
    "\n",
    "from slow_reservoir.model import RNN, RNNSimple\n",
    "from slow_reservoir.dataset.dynamic_state import State\n",
    "\n",
    "%matplotlib inline"
   ]
  },
  {
   "cell_type": "code",
   "execution_count": 2,
   "metadata": {},
   "outputs": [],
   "source": [
    "state_list = [\n",
    "    State(mu=0.5, sigma=0.4),\n",
    "    State(mu=0, sigma=0.2),\n",
    "    State(mu=-0.5, sigma=0.1),\n",
    "]"
   ]
  },
  {
   "cell_type": "code",
   "execution_count": 3,
   "metadata": {},
   "outputs": [],
   "source": [
    "def make_signal(N, time_length, state_list, uncertainty=0.5):\n",
    "    input_signals = np.zeros([N, time_length, 100])\n",
    "    phi = np.linspace(-2, 2, 100)\n",
    "    sigma_sq = 0.5\n",
    "    target_list = np.zeros([N, 400])\n",
    "    signal_mu_list = np.zeros((N, time_length))\n",
    "    true_signal_list = np.zeros((N, time_length))\n",
    "    \n",
    "    for i in range(N):\n",
    "        signal_input = np.zeros([time_length, 100])\n",
    "        for t in range(time_length):\n",
    "            true_signal = state_list[0]()\n",
    "            true_signal_list[i, t] = true_signal\n",
    "            # true_signal = state_list[2]()\n",
    "            g = 2\n",
    "            signal_sigma = np.sqrt(1 / g) * uncertainty\n",
    "            signal_mu = np.random.normal(true_signal, signal_sigma)\n",
    "            signal_mu_list[i, t] = signal_mu\n",
    "            \n",
    "            signal_base = g * 1 * np.exp(-(signal_mu - phi) ** 2 / (2.0 * sigma_sq))\n",
    "            signal_input[t] = np.random.poisson(signal_base)\n",
    "        \n",
    "        input_signals[i] = signal_input\n",
    "        # signal_mu_list.append(signal_mu)\n",
    "        \n",
    "    return input_signals, true_signal_list, signal_mu_list"
   ]
  },
  {
   "cell_type": "code",
   "execution_count": 4,
   "metadata": {},
   "outputs": [
    {
     "name": "stdout",
     "output_type": "stream",
     "text": [
      "model_name:  20220423_2\n"
     ]
    },
    {
     "data": {
      "text/plain": [
       "RNN(\n",
       "  (w_in): Linear(in_features=100, out_features=200, bias=True)\n",
       "  (w_hh): Linear(in_features=200, out_features=200, bias=True)\n",
       "  (w_out): Linear(in_features=200, out_features=1, bias=True)\n",
       "  (w_fs): Linear(in_features=200, out_features=50, bias=True)\n",
       "  (w_sf): Linear(in_features=50, out_features=200, bias=True)\n",
       "  (w_reservoir): Linear(in_features=50, out_features=50, bias=True)\n",
       "  (w_prior): Linear(in_features=50, out_features=100, bias=True)\n",
       ")"
      ]
     },
     "execution_count": 4,
     "metadata": {},
     "output_type": "execute_result"
    }
   ],
   "source": [
    "config_path = '../slow_reservoir/trained_model/dynamic_state_random/20220423_2/20220423_2.cfg'\n",
    "with open(config_path, 'r') as f:\n",
    "    cfg = yaml.safe_load(f)\n",
    "    \n",
    "\n",
    "model_name = os.path.splitext(os.path.basename(config_path))[0]\n",
    "print('model_name: ', model_name)\n",
    "\n",
    "torch.manual_seed(1)\n",
    "device = torch.device('cpu')\n",
    "\n",
    "model = RNN(\n",
    "    n_in=cfg['DATALOADER']['INPUT_NEURON'],\n",
    "    n_out=1,\n",
    "    n_hid=cfg['MODEL']['SIZE'],\n",
    "    n_reservoir=cfg['MODEL']['RESERVOIR'],\n",
    "    device=device,\n",
    "    alpha_fast=cfg['MODEL']['ALPHA_FAST'],\n",
    "    alpha_slow=cfg['MODEL']['ALPHA_SLOW'],\n",
    "    sigma_neu=cfg['MODEL']['SIGMA_NEU'],\n",
    ").to(device)\n",
    "\n",
    "model_path = f'../slow_reservoir/trained_model/dynamic_state_random/{model_name}/epoch_400.pth'\n",
    "model.load_state_dict(torch.load(model_path, map_location=device))\n",
    "model.eval()\n",
    "\n"
   ]
  },
  {
   "cell_type": "code",
   "execution_count": 5,
   "metadata": {},
   "outputs": [],
   "source": [
    "sample_num = 1\n",
    "input_signal, true_signal_list, signal_mu_list = make_signal(\n",
    "    sample_num, \n",
    "    state_list=state_list,\n",
    "    time_length=120, \n",
    "    uncertainty=0.5,\n",
    ")\n",
    "\n",
    "inputs = torch.from_numpy(input_signal).float()                                               \n",
    "inputs = inputs.to(device) \n",
    "\n",
    "hidden_np = np.random.normal(0, 0.5, size=(sample_num, cfg['MODEL']['SIZE']))\n",
    "reservoir_np = np.random.normal(0, 0.5, size=(sample_num, cfg['MODEL']['RESERVOIR']))\n",
    "             \n",
    "\n",
    "# priorなしのモデルによる推論\n",
    "hidden = torch.from_numpy(hidden_np).float()                               \n",
    "hidden = hidden.to(device) \n",
    "reservoir = torch.from_numpy(reservoir_np).float()\n",
    "reservoir = reservoir.to(device)\n",
    "hidden_list, outputs, prior_list, reservoir_list = model(inputs, hidden, reservoir, 120)                                                     \n",
    "neural_dynamics = hidden_list.cpu().detach().numpy()   \n",
    "reservoir_dynamics = reservoir_list.cpu().detach().numpy()\n"
   ]
  },
  {
   "cell_type": "code",
   "execution_count": 6,
   "metadata": {},
   "outputs": [],
   "source": [
    "def calc_bayesian_optimal(mu_l, sigma_l, mu_p, sigma_p):\n",
    "    return mu_p * (sigma_l**2/(sigma_p**2+sigma_l**2)) + mu_l * (sigma_p**2/(sigma_p**2+sigma_l**2))"
   ]
  },
  {
   "cell_type": "code",
   "execution_count": 7,
   "metadata": {},
   "outputs": [],
   "source": [
    "sigma_l = math.sqrt(1/2) * 0.5\n",
    "bayesian_optimal = calc_bayesian_optimal(signal_mu_list[0], sigma_l, 0.5, 0.4)"
   ]
  },
  {
   "cell_type": "code",
   "execution_count": 8,
   "metadata": {},
   "outputs": [
    {
     "data": {
      "image/png": "[encoded data removed]",
      "text/plain": [
       "<Figure size 432x288 with 1 Axes>"
      ]
     },
     "metadata": {},
     "output_type": "display_data"
    }
   ],
   "source": [
    "plt.scatter(\n",
    "    signal_mu_list[0],\n",
    "    bayesian_optimal,\n",
    ")\n",
    "plt.scatter(\n",
    "    signal_mu_list[0],\n",
    "    outputs.detach().numpy()[:, :, 0],\n",
    ")\n",
    "plt.scatter(\n",
    "    signal_mu_list[0],\n",
    "    signal_mu_list[0],\n",
    ")\n",
    "plt.xlim([-1.5, 2])\n",
    "plt.ylim([-1.5, 2])\n",
    "plt.show()"
   ]
  },
  {
   "cell_type": "code",
   "execution_count": 9,
   "metadata": {},
   "outputs": [],
   "source": [
    "sample_num = 1\n",
    "state_list = [\n",
    "    State(mu=0, sigma=0.2),\n",
    "]\n",
    "input_signal, true_signal_list, signal_mu_list = make_signal(\n",
    "    sample_num, \n",
    "    state_list=state_list,\n",
    "    time_length=120, \n",
    "    uncertainty=0.5,\n",
    ")\n",
    "\n",
    "inputs = torch.from_numpy(input_signal).float()                                               \n",
    "inputs = inputs.to(device) \n",
    "\n",
    "hidden_np = np.random.normal(0, 0.5, size=(sample_num, cfg['MODEL']['SIZE']))\n",
    "reservoir_np = np.random.normal(0, 0.5, size=(sample_num, cfg['MODEL']['RESERVOIR']))\n",
    "             \n",
    "\n",
    "# priorなしのモデルによる推論\n",
    "hidden = torch.from_numpy(hidden_np).float()                               \n",
    "hidden = hidden.to(device) \n",
    "reservoir = torch.from_numpy(reservoir_np).float()\n",
    "reservoir = reservoir.to(device)\n",
    "hidden_list, outputs, prior_list, reservoir_list = model(inputs, hidden, reservoir, 120)                                                     \n",
    "neural_dynamics = hidden_list.cpu().detach().numpy()   \n",
    "reservoir_dynamics = reservoir_list.cpu().detach().numpy()\n"
   ]
  },
  {
   "cell_type": "code",
   "execution_count": 10,
   "metadata": {},
   "outputs": [],
   "source": [
    "# sigma_l = math.sqrt(1/3) * 0.5\n",
    "bayesian_optimal = calc_bayesian_optimal(signal_mu_list[0], sigma_l, 0, 0.2)"
   ]
  },
  {
   "cell_type": "code",
   "execution_count": 11,
   "metadata": {},
   "outputs": [
    {
     "data": {
      "image/png": "[encoded data removed]",
      "text/plain": [
       "<Figure size 432x288 with 1 Axes>"
      ]
     },
     "metadata": {},
     "output_type": "display_data"
    }
   ],
   "source": [
    "plt.scatter(\n",
    "    signal_mu_list[0],\n",
    "    bayesian_optimal,\n",
    ")\n",
    "plt.scatter(\n",
    "    signal_mu_list[0],\n",
    "    outputs.detach().numpy()[:, :, 0],\n",
    ")\n",
    "plt.scatter(\n",
    "    signal_mu_list[0],\n",
    "    signal_mu_list[0],\n",
    ")\n",
    "plt.xlim([-1.5, 1.5])\n",
    "plt.ylim([-1.5, 1.5])\n",
    "plt.show()"
   ]
  },
  {
   "cell_type": "code",
   "execution_count": 12,
   "metadata": {},
   "outputs": [],
   "source": [
    "sample_num = 1\n",
    "state_list = [\n",
    "    State(mu=-0.5, sigma=0.1),\n",
    "]\n",
    "input_signal, true_signal_list, signal_mu_list = make_signal(\n",
    "    sample_num, \n",
    "    state_list=state_list,\n",
    "    time_length=120, \n",
    "    uncertainty=0.5,\n",
    ")\n",
    "\n",
    "inputs = torch.from_numpy(input_signal).float()                                               \n",
    "inputs = inputs.to(device) \n",
    "\n",
    "hidden_np = np.random.normal(0, 0.5, size=(sample_num, cfg['MODEL']['SIZE']))\n",
    "reservoir_np = np.random.normal(0, 0.5, size=(sample_num, cfg['MODEL']['RESERVOIR']))\n",
    "             \n",
    "\n",
    "# priorなしのモデルによる推論\n",
    "hidden = torch.from_numpy(hidden_np).float()                               \n",
    "hidden = hidden.to(device) \n",
    "reservoir = torch.from_numpy(reservoir_np).float()\n",
    "reservoir = reservoir.to(device)\n",
    "hidden_list, outputs, prior_list, reservoir_list = model(inputs, hidden, reservoir, 120)                                                     \n",
    "neural_dynamics = hidden_list.cpu().detach().numpy()   \n",
    "reservoir_dynamics = reservoir_list.cpu().detach().numpy()\n"
   ]
  },
  {
   "cell_type": "code",
   "execution_count": 13,
   "metadata": {},
   "outputs": [],
   "source": [
    "# sigma_l = math.sqrt(1/3) * 0.5\n",
    "bayesian_optimal = calc_bayesian_optimal(signal_mu_list[0], sigma_l, -0.5, 0.1)"
   ]
  },
  {
   "cell_type": "code",
   "execution_count": 14,
   "metadata": {},
   "outputs": [
    {
     "data": {
      "image/png": "[encoded data removed]",
      "text/plain": [
       "<Figure size 432x288 with 1 Axes>"
      ]
     },
     "metadata": {},
     "output_type": "display_data"
    }
   ],
   "source": [
    "plt.scatter(\n",
    "    signal_mu_list[0],\n",
    "    bayesian_optimal,\n",
    ")\n",
    "plt.scatter(\n",
    "    signal_mu_list[0],\n",
    "    outputs.detach().numpy()[:, :, 0],\n",
    ")\n",
    "plt.scatter(\n",
    "    signal_mu_list[0],\n",
    "    signal_mu_list[0],\n",
    ")\n",
    "plt.xlim([-1.5, 1.5])\n",
    "plt.ylim([-1.5, 1.5])\n",
    "plt.show()"
   ]
  },
  {
   "cell_type": "code",
   "execution_count": null,
   "metadata": {},
   "outputs": [],
   "source": []
  }
 ],
 "metadata": {
  "kernelspec": {
   "display_name": "Python 3",
   "language": "python",
   "name": "python3"
  },
  "language_info": {
   "codemirror_mode": {
    "name": "ipython",
    "version": 3
   },
   "file_extension": ".py",
   "mimetype": "text/x-python",
   "name": "python",
   "nbconvert_exporter": "python",
   "pygments_lexer": "ipython3",
   "version": "3.6.4"
  }
 },
 "nbformat": 4,
 "nbformat_minor": 2
}

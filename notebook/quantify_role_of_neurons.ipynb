{
 "cells": [
  {
   "cell_type": "markdown",
   "metadata": {},
   "source": [
    "## 概要\n",
    "priorとlikelihoodに関する情報をコードしているニューロンの役割分担がどの程度行われているのかを定量化する。\n",
    "\n",
    "あるニューロンの時間発展 $x(t)$ を考える。環境変化を $E(t)$ とする。\n",
    "\n",
    "- likelihoodのcoding率: 同一のEにおける $x(t)$ の分散 $\\langle x^2\\rangle - \\langle x\\rangle^2 $の異なるEに関する平均\n",
    "- priorのcoding率: 同一のEにおける$x(t)$の平均$[x(t)]$の異なるEに関する分散"
   ]
  },
  {
   "cell_type": "code",
   "execution_count": 1,
   "metadata": {},
   "outputs": [],
   "source": [
    "import os\n",
    "import math\n",
    "\n",
    "import matplotlib\n",
    "import numpy as np\n",
    "import sys\n",
    "import scipy\n",
    "import yaml\n",
    "\n",
    "from sklearn.metrics import mean_squared_error\n",
    "\n",
    "sys.path.append('../')\n",
    "import torch\n",
    "import torch.nn as nn\n",
    "import torch.nn.functional as F\n",
    "\n",
    "import matplotlib.pyplot as plt\n",
    "from mpl_toolkits.mplot3d import Axes3D\n",
    "\n",
    "from sklearn.decomposition import PCA\n",
    "from matplotlib import cm\n",
    "\n",
    "from slow_reservoir.model import RNN, RNNSimple\n",
    "from slow_reservoir.dataset.dynamic_state import State\n",
    "\n",
    "%matplotlib inline"
   ]
  },
  {
   "cell_type": "code",
   "execution_count": 2,
   "metadata": {},
   "outputs": [],
   "source": [
    "state_list = [\n",
    "    State(mu=0, sigma=0.2),\n",
    "    State(mu=-0.5, sigma=0.1),\n",
    "    State(mu=0.5, sigma=0.4),\n",
    "]"
   ]
  },
  {
   "cell_type": "code",
   "execution_count": 3,
   "metadata": {},
   "outputs": [],
   "source": [
    "def make_signal(N, time_length, state_list, uncertainty=0.5):\n",
    "    input_signals = np.zeros([N, time_length, 100])\n",
    "    phi = np.linspace(-2, 2, 100)\n",
    "    sigma_sq = 0.5\n",
    "    target_list = np.zeros([N, 400])\n",
    "    signal_mu_list = np.zeros((N, time_length))\n",
    "    true_signal_list = np.zeros((N, time_length))\n",
    "    \n",
    "    for i in range(N):\n",
    "        signal_input = np.zeros([time_length, 100])\n",
    "        for t in range(time_length):\n",
    "            true_signal = state_list[(t // 40) % 3]()\n",
    "            true_signal_list[i, t] = true_signal\n",
    "            # true_signal = state_list[2]()\n",
    "            g = 1\n",
    "            signal_sigma = np.sqrt(1 / g) * uncertainty\n",
    "            signal_mu = np.random.normal(true_signal, signal_sigma)\n",
    "            signal_mu_list[i, t] = signal_mu\n",
    "            \n",
    "            signal_base = g * 1 * np.exp(-(signal_mu - phi) ** 2 / (2.0 * sigma_sq))\n",
    "            signal_input[t] = np.random.poisson(signal_base)\n",
    "        \n",
    "        input_signals[i] = signal_input\n",
    "        # signal_mu_list.append(signal_mu)\n",
    "        \n",
    "    return input_signals, true_signal_list, signal_mu_list"
   ]
  },
  {
   "cell_type": "code",
   "execution_count": 4,
   "metadata": {},
   "outputs": [
    {
     "name": "stdout",
     "output_type": "stream",
     "text": [
      "model_name:  20220526_all_slow\n"
     ]
    },
    {
     "data": {
      "text/plain": [
       "RNN(\n",
       "  (w_in): Linear(in_features=100, out_features=200, bias=True)\n",
       "  (w_hh): Linear(in_features=200, out_features=200, bias=True)\n",
       "  (w_out): Linear(in_features=200, out_features=1, bias=True)\n",
       "  (w_fs): Linear(in_features=200, out_features=50, bias=True)\n",
       "  (w_sf): Linear(in_features=50, out_features=200, bias=True)\n",
       "  (w_reservoir): Linear(in_features=50, out_features=50, bias=True)\n",
       "  (w_prior): Linear(in_features=50, out_features=100, bias=True)\n",
       ")"
      ]
     },
     "execution_count": 4,
     "metadata": {},
     "output_type": "execute_result"
    }
   ],
   "source": [
    "config_path = '../slow_reservoir/trained_model/dynamic_state_random/20220526_all_slow/20220526_all_slow.cfg'\n",
    "with open(config_path, 'r') as f:\n",
    "    cfg = yaml.safe_load(f)\n",
    "    \n",
    "\n",
    "model_name = os.path.splitext(os.path.basename(config_path))[0]\n",
    "print('model_name: ', model_name)\n",
    "\n",
    "torch.manual_seed(1)\n",
    "device = torch.device('cpu')\n",
    "\n",
    "model = RNN(\n",
    "    n_in=cfg['DATALOADER']['INPUT_NEURON'],\n",
    "    n_out=1,\n",
    "    n_hid=cfg['MODEL']['SIZE'],\n",
    "    n_reservoir=cfg['MODEL']['RESERVOIR'],\n",
    "    device=device,\n",
    "    alpha_fast=cfg['MODEL']['ALPHA_FAST'],\n",
    "    alpha_slow=cfg['MODEL']['ALPHA_SLOW'],\n",
    "    sigma_neu=cfg['MODEL']['SIGMA_NEU'],\n",
    ").to(device)\n",
    "\n",
    "model_path = f'../slow_reservoir/trained_model/dynamic_state_random/{model_name}/epoch_500.pth'\n",
    "model.load_state_dict(torch.load(model_path, map_location=device))\n",
    "model.eval()\n",
    "\n"
   ]
  },
  {
   "cell_type": "code",
   "execution_count": 5,
   "metadata": {},
   "outputs": [],
   "source": [
    "sample_num = 1000\n",
    "input_signal, true_signal_list, signal_mu_list = make_signal(\n",
    "    sample_num, \n",
    "    state_list=state_list,\n",
    "    time_length=120, \n",
    "    uncertainty=0.5,\n",
    ")\n",
    "\n",
    "inputs = torch.from_numpy(input_signal).float()                                               \n",
    "inputs = inputs.to(device) \n",
    "\n",
    "hidden_np = np.random.normal(0, 0.5, size=(sample_num, cfg['MODEL']['SIZE']))\n",
    "reservoir_np = np.random.normal(0, 0.5, size=(sample_num, cfg['MODEL']['RESERVOIR']))\n",
    "             \n",
    "\n",
    "# priorなしのモデルによる推論\n",
    "hidden = torch.from_numpy(hidden_np).float()                               \n",
    "hidden = hidden.to(device) \n",
    "reservoir = torch.from_numpy(reservoir_np).float()\n",
    "reservoir = reservoir.to(device)\n",
    "hidden_list, outputs, prior_list, reservoir_list = model(inputs, hidden, reservoir, 120)                                                     \n",
    "neural_dynamics = hidden_list.cpu().detach().numpy()   \n",
    "reservoir_dynamics = reservoir_list.cpu().detach().numpy()\n"
   ]
  },
  {
   "cell_type": "code",
   "execution_count": 6,
   "metadata": {},
   "outputs": [
    {
     "data": {
      "text/plain": [
       "[<matplotlib.lines.Line2D at 0x7fa159c9c208>]"
      ]
     },
     "execution_count": 6,
     "metadata": {},
     "output_type": "execute_result"
    },
    {
     "data": {
      "image/png": "[encoded data removed]",
      "text/plain": [
       "<Figure size 432x288 with 1 Axes>"
      ]
     },
     "metadata": {},
     "output_type": "display_data"
    }
   ],
   "source": [
    "plt.plot(neural_dynamics[0, :, 1])\n",
    "plt.plot(neural_dynamics[0, :, 8])\n",
    "plt.plot(neural_dynamics[0, :, 13])\n",
    "plt.plot(neural_dynamics[0, :, 14])\n",
    "plt.plot(neural_dynamics[0, :, 16])"
   ]
  },
  {
   "cell_type": "code",
   "execution_count": 7,
   "metadata": {},
   "outputs": [
    {
     "data": {
      "text/plain": [
       "[<matplotlib.lines.Line2D at 0x7fa120b58320>]"
      ]
     },
     "execution_count": 7,
     "metadata": {},
     "output_type": "execute_result"
    },
    {
     "data": {
      "image/png": "[encoded data removed]",
      "text/plain": [
       "<Figure size 432x288 with 1 Axes>"
      ]
     },
     "metadata": {},
     "output_type": "display_data"
    }
   ],
   "source": [
    "plt.plot(reservoir_dynamics[0, :, 9])\n",
    "plt.plot(reservoir_dynamics[0, :, 13])\n",
    "plt.plot(reservoir_dynamics[0, :, 4])\n",
    "plt.plot(reservoir_dynamics[0, :, 26])"
   ]
  },
  {
   "cell_type": "markdown",
   "metadata": {},
   "source": [
    "### Calculation"
   ]
  },
  {
   "cell_type": "code",
   "execution_count": 8,
   "metadata": {},
   "outputs": [],
   "source": [
    "var_activity_list = []\n",
    "mean_activity_list = []\n",
    "for i in range(3):\n",
    "    E_time_series = neural_dynamics[:, i*40:(i+1)*40, 6].reshape(1000*40)\n",
    "    var_activity_list.append(np.var(E_time_series))\n",
    "    mean_activity_list.append(np.mean(E_time_series))"
   ]
  },
  {
   "cell_type": "code",
   "execution_count": 9,
   "metadata": {},
   "outputs": [
    {
     "data": {
      "text/plain": [
       "1.3482404"
      ]
     },
     "execution_count": 9,
     "metadata": {},
     "output_type": "execute_result"
    }
   ],
   "source": [
    "np.mean(var_activity_list) / np.var(mean_activity_list)"
   ]
  },
  {
   "cell_type": "code",
   "execution_count": 10,
   "metadata": {},
   "outputs": [
    {
     "name": "stdout",
     "output_type": "stream",
     "text": [
      "2.8566902\n"
     ]
    }
   ],
   "source": [
    "var_activity_list = []\n",
    "mean_activity_list = []\n",
    "for i in range(3):\n",
    "    E_time_series = neural_dynamics[:, i*40:(i+1)*40, 0].reshape(1000*40)\n",
    "    var_activity_list.append(np.var(E_time_series))\n",
    "    mean_activity_list.append(np.mean(E_time_series))\n",
    "    \n",
    "print(np.mean(var_activity_list) / np.var(mean_activity_list))"
   ]
  },
  {
   "cell_type": "code",
   "execution_count": 11,
   "metadata": {},
   "outputs": [
    {
     "data": {
      "text/plain": [
       "2.910642"
      ]
     },
     "execution_count": 11,
     "metadata": {},
     "output_type": "execute_result"
    }
   ],
   "source": [
    "np.max(E_time_series)"
   ]
  },
  {
   "cell_type": "code",
   "execution_count": 12,
   "metadata": {},
   "outputs": [
    {
     "name": "stdout",
     "output_type": "stream",
     "text": [
      "0.89273316\n"
     ]
    }
   ],
   "source": [
    "var_activity_list = []\n",
    "mean_activity_list = []\n",
    "for i in range(3):\n",
    "    E_time_series = neural_dynamics[:, i*40:(i+1)*40, 13].reshape(1000*40)\n",
    "    var_activity_list.append(np.var(E_time_series))\n",
    "    mean_activity_list.append(np.mean(E_time_series))\n",
    "    \n",
    "print(np.mean(var_activity_list) / np.var(mean_activity_list))"
   ]
  },
  {
   "cell_type": "code",
   "execution_count": 13,
   "metadata": {},
   "outputs": [
    {
     "name": "stdout",
     "output_type": "stream",
     "text": [
      "3.7733235\n"
     ]
    }
   ],
   "source": [
    "var_activity_list = []\n",
    "mean_activity_list = []\n",
    "for i in range(3):\n",
    "    E_time_series = neural_dynamics[:, i*40:(i+1)*40, 16].reshape(1000*40)\n",
    "    var_activity_list.append(np.var(E_time_series))\n",
    "    mean_activity_list.append(np.mean(E_time_series))\n",
    "    \n",
    "print(np.mean(var_activity_list) / np.var(mean_activity_list))"
   ]
  },
  {
   "cell_type": "code",
   "execution_count": 14,
   "metadata": {},
   "outputs": [
    {
     "name": "stdout",
     "output_type": "stream",
     "text": [
      "4.347124\n"
     ]
    }
   ],
   "source": [
    "var_activity_list = []\n",
    "mean_activity_list = []\n",
    "for i in range(3):\n",
    "    E_time_series = reservoir_dynamics[:, i*40:(i+1)*40, 1].reshape(1000*40)\n",
    "    var_activity_list.append(np.var(E_time_series))\n",
    "    mean_activity_list.append(np.mean(E_time_series))\n",
    "    \n",
    "print(np.mean(var_activity_list) / np.var(mean_activity_list))"
   ]
  },
  {
   "cell_type": "code",
   "execution_count": 15,
   "metadata": {},
   "outputs": [
    {
     "name": "stdout",
     "output_type": "stream",
     "text": [
      "16.67491\n"
     ]
    }
   ],
   "source": [
    "var_activity_list = []\n",
    "mean_activity_list = []\n",
    "for i in range(3):\n",
    "    E_time_series = reservoir_dynamics[:, i*40:(i+1)*40, 0].reshape(1000*40)\n",
    "    var_activity_list.append(np.var(E_time_series))\n",
    "    mean_activity_list.append(np.mean(E_time_series))\n",
    "    \n",
    "print(np.mean(var_activity_list) / np.var(mean_activity_list))"
   ]
  },
  {
   "cell_type": "code",
   "execution_count": 16,
   "metadata": {},
   "outputs": [
    {
     "name": "stdout",
     "output_type": "stream",
     "text": [
      "1.7670934\n"
     ]
    }
   ],
   "source": [
    "var_activity_list = []\n",
    "mean_activity_list = []\n",
    "for i in range(3):\n",
    "    E_time_series = reservoir_dynamics[:, i*40:(i+1)*40, 3].reshape(1000*40)\n",
    "    var_activity_list.append(np.var(E_time_series))\n",
    "    mean_activity_list.append(np.mean(E_time_series))\n",
    "    \n",
    "print(np.mean(var_activity_list) / np.var(mean_activity_list))"
   ]
  },
  {
   "cell_type": "code",
   "execution_count": 17,
   "metadata": {},
   "outputs": [
    {
     "data": {
      "text/plain": [
       "2.910642"
      ]
     },
     "execution_count": 17,
     "metadata": {},
     "output_type": "execute_result"
    }
   ],
   "source": [
    "np.max(neural_dynamics[:, :, 0])"
   ]
  },
  {
   "cell_type": "markdown",
   "metadata": {},
   "source": [
    "#### fast neuron側"
   ]
  },
  {
   "cell_type": "code",
   "execution_count": 18,
   "metadata": {},
   "outputs": [],
   "source": [
    "coding_ratio_dict = {}\n",
    "for i in range(cfg['MODEL']['SIZE']):\n",
    "    if np.max(neural_dynamics[:, :, i]) < 1:\n",
    "        continue\n",
    "    var_activity_list = []\n",
    "    mean_activity_list = []\n",
    "    for j in range(3):\n",
    "        E_time_series = neural_dynamics[:, j*40:(j+1)*40, i].reshape(1000*40)\n",
    "        var_activity_list.append(np.var(E_time_series))\n",
    "        mean_activity_list.append(np.mean(E_time_series))\n",
    "       \n",
    "    coding_ratio = np.mean(var_activity_list) / np.var(mean_activity_list)\n",
    "    if coding_ratio >= 20:\n",
    "        continue\n",
    "    coding_ratio_dict[i] = np.mean(var_activity_list) / np.var(mean_activity_list)"
   ]
  },
  {
   "cell_type": "code",
   "execution_count": 19,
   "metadata": {},
   "outputs": [
    {
     "data": {
      "image/png": "[encoded data removed]",
      "text/plain": [
       "<Figure size 432x288 with 1 Axes>"
      ]
     },
     "metadata": {},
     "output_type": "display_data"
    }
   ],
   "source": [
    "plt.hist(coding_ratio_dict.values(), bins=50, range=(0, 5))\n",
    "plt.show()"
   ]
  },
  {
   "cell_type": "markdown",
   "metadata": {},
   "source": [
    "#### sub-network側"
   ]
  },
  {
   "cell_type": "code",
   "execution_count": 20,
   "metadata": {},
   "outputs": [],
   "source": [
    "reservoir_coding_ratio_dict = {}\n",
    "for i in range(cfg['MODEL']['RESERVOIR']):\n",
    "    if np.max(reservoir_dynamics[:, :, i]) < 1:\n",
    "        continue\n",
    "    var_activity_list = []\n",
    "    mean_activity_list = []\n",
    "    for j in range(3):\n",
    "        E_time_series = reservoir_dynamics[:, j*40:(j+1)*40, i].reshape(1000*40)\n",
    "        var_activity_list.append(np.var(E_time_series))\n",
    "        mean_activity_list.append(np.mean(E_time_series))\n",
    "       \n",
    "    coding_ratio = np.mean(var_activity_list) / np.var(mean_activity_list)\n",
    "    if coding_ratio >= 20:\n",
    "        continue\n",
    "    reservoir_coding_ratio_dict[i] = np.mean(var_activity_list) / np.var(mean_activity_list)"
   ]
  },
  {
   "cell_type": "code",
   "execution_count": 21,
   "metadata": {},
   "outputs": [
    {
     "data": {
      "image/png": "[encoded data removed]",
      "text/plain": [
       "<Figure size 432x288 with 1 Axes>"
      ]
     },
     "metadata": {},
     "output_type": "display_data"
    }
   ],
   "source": [
    "plt.hist(coding_ratio_dict.values(), bins=30, range=(0, 10), alpha=0.5)\n",
    "plt.hist(reservoir_coding_ratio_dict.values(), bins=30, range=(0, 10), alpha=0.5)\n",
    "plt.show()"
   ]
  },
  {
   "cell_type": "code",
   "execution_count": 22,
   "metadata": {},
   "outputs": [
    {
     "data": {
      "text/plain": [
       "{1: 4.2928405,\n",
       " 3: 8.526045,\n",
       " 6: 0.69106424,\n",
       " 7: 5.2910566,\n",
       " 8: 14.23274,\n",
       " 9: 1.0824178,\n",
       " 11: 17.650541,\n",
       " 12: 1.155622,\n",
       " 13: 1.5988965,\n",
       " 14: 0.5024854,\n",
       " 17: 17.312922,\n",
       " 20: 9.242399,\n",
       " 22: 12.055205,\n",
       " 24: 10.193464,\n",
       " 27: 1.9012685,\n",
       " 29: 9.052277,\n",
       " 33: 4.8918567,\n",
       " 35: 11.908721,\n",
       " 36: 1.393814,\n",
       " 38: 11.101683,\n",
       " 41: 7.8684487,\n",
       " 42: 2.7718902,\n",
       " 43: 3.4598227,\n",
       " 45: 17.959152,\n",
       " 46: 3.5439184,\n",
       " 47: 13.084406,\n",
       " 53: 0.69847107,\n",
       " 54: 12.554624,\n",
       " 55: 1.7063698,\n",
       " 56: 11.535144,\n",
       " 57: 16.322153,\n",
       " 58: 3.2009318,\n",
       " 59: 1.0508281,\n",
       " 60: 3.7107692,\n",
       " 61: 4.24001,\n",
       " 62: 6.694975,\n",
       " 64: 0.9216147,\n",
       " 65: 16.09095,\n",
       " 66: 6.0018673,\n",
       " 67: 1.0660144,\n",
       " 68: 1.7784584,\n",
       " 78: 19.526175,\n",
       " 80: 7.181175,\n",
       " 82: 6.5769343,\n",
       " 83: 10.273423,\n",
       " 84: 2.580184,\n",
       " 90: 16.300243,\n",
       " 93: 4.2084084,\n",
       " 100: 1.5597245,\n",
       " 102: 3.3331008,\n",
       " 103: 8.714066,\n",
       " 113: 4.7265253,\n",
       " 114: 17.490683,\n",
       " 117: 1.8837807,\n",
       " 118: 10.9117365,\n",
       " 124: 19.977615,\n",
       " 125: 2.9230978,\n",
       " 126: 13.9849,\n",
       " 128: 6.0262046,\n",
       " 132: 19.076414,\n",
       " 133: 3.4198332,\n",
       " 134: 12.879975,\n",
       " 140: 4.3131857,\n",
       " 141: 0.91954476,\n",
       " 143: 14.932529,\n",
       " 144: 0.628426,\n",
       " 146: 2.7643514,\n",
       " 148: 2.0599692,\n",
       " 153: 6.792528,\n",
       " 158: 0.7684823,\n",
       " 165: 1.6839498,\n",
       " 171: 14.024431,\n",
       " 172: 9.153731,\n",
       " 174: 1.8610405,\n",
       " 177: 1.988493,\n",
       " 179: 9.243863,\n",
       " 181: 1.8513085,\n",
       " 185: 5.065921,\n",
       " 186: 1.817768,\n",
       " 191: 0.7777823,\n",
       " 192: 0.956902,\n",
       " 193: 2.964127,\n",
       " 194: 9.820346,\n",
       " 197: 17.221083,\n",
       " 198: 2.963572}"
      ]
     },
     "execution_count": 22,
     "metadata": {},
     "output_type": "execute_result"
    }
   ],
   "source": [
    "coding_ratio_dict"
   ]
  },
  {
   "cell_type": "code",
   "execution_count": 23,
   "metadata": {},
   "outputs": [
    {
     "data": {
      "text/plain": [
       "[<matplotlib.lines.Line2D at 0x7fa4989ce6a0>]"
      ]
     },
     "execution_count": 23,
     "metadata": {},
     "output_type": "execute_result"
    },
    {
     "data": {
      "image/png": "[encoded data removed]",
      "text/plain": [
       "<Figure size 432x288 with 1 Axes>"
      ]
     },
     "metadata": {},
     "output_type": "display_data"
    }
   ],
   "source": [
    "plt.plot(neural_dynamics[0, :, 3])\n",
    "plt.plot(neural_dynamics[0, :, 40])\n",
    "plt.plot(neural_dynamics[0, :, 167])\n",
    "plt.plot(neural_dynamics[0, :, 193])"
   ]
  },
  {
   "cell_type": "code",
   "execution_count": 24,
   "metadata": {},
   "outputs": [
    {
     "data": {
      "text/plain": [
       "Parameter containing:\n",
       "tensor([[-4.3201e-03, -2.9287e-05, -2.0873e-03,  ..., -1.6376e-03,\n",
       "         -1.5304e-02, -3.8640e-03],\n",
       "        [-1.4933e-02, -3.4977e-03, -5.8962e-04,  ..., -9.9088e-03,\n",
       "         -6.2494e-02,  4.5850e-02],\n",
       "        [-8.9586e-04, -1.4630e-03,  3.0419e-04,  ..., -7.3559e-04,\n",
       "          7.8441e-04, -4.3011e-05],\n",
       "        ...,\n",
       "        [ 5.9419e-03,  8.1775e-03, -2.3925e-04,  ...,  2.1942e-02,\n",
       "         -3.8797e-03, -5.3612e-03],\n",
       "        [-2.7299e-02, -6.3823e-03, -7.1547e-04,  ..., -1.3000e-02,\n",
       "          1.1387e-01, -1.0252e-02],\n",
       "        [ 2.0813e-02,  1.2568e-02, -4.3940e-03,  ..., -8.9890e-03,\n",
       "         -3.8464e-02,  1.3228e-02]], requires_grad=True)"
      ]
     },
     "execution_count": 24,
     "metadata": {},
     "output_type": "execute_result"
    }
   ],
   "source": [
    "model.w_hh.weight"
   ]
  },
  {
   "cell_type": "code",
   "execution_count": 25,
   "metadata": {},
   "outputs": [
    {
     "data": {
      "text/plain": [
       "5.61876"
      ]
     },
     "execution_count": 25,
     "metadata": {},
     "output_type": "execute_result"
    }
   ],
   "source": [
    "np.sum(abs(model.w_in.weight.detach().numpy()[3, :]))"
   ]
  },
  {
   "cell_type": "code",
   "execution_count": 26,
   "metadata": {},
   "outputs": [
    {
     "data": {
      "text/plain": [
       "0.97835433"
      ]
     },
     "execution_count": 26,
     "metadata": {},
     "output_type": "execute_result"
    }
   ],
   "source": [
    "np.sum(abs(model.w_in.weight.detach().numpy()[40, :]))"
   ]
  },
  {
   "cell_type": "code",
   "execution_count": 27,
   "metadata": {},
   "outputs": [
    {
     "data": {
      "text/plain": [
       "1.164801"
      ]
     },
     "execution_count": 27,
     "metadata": {},
     "output_type": "execute_result"
    }
   ],
   "source": [
    "np.sum(abs(model.w_fs.weight.detach().numpy()[:, 3]))"
   ]
  },
  {
   "cell_type": "code",
   "execution_count": 28,
   "metadata": {},
   "outputs": [
    {
     "data": {
      "text/plain": [
       "0.30960312"
      ]
     },
     "execution_count": 28,
     "metadata": {},
     "output_type": "execute_result"
    }
   ],
   "source": [
    "np.sum(abs(model.w_fs.weight.detach().numpy()[:, 40]))"
   ]
  },
  {
   "cell_type": "code",
   "execution_count": 29,
   "metadata": {},
   "outputs": [
    {
     "data": {
      "text/plain": [
       "0.11384095"
      ]
     },
     "execution_count": 29,
     "metadata": {},
     "output_type": "execute_result"
    }
   ],
   "source": [
    "np.sum(abs(model.w_fs.weight.detach().numpy()[:, 167]))"
   ]
  },
  {
   "cell_type": "code",
   "execution_count": 30,
   "metadata": {},
   "outputs": [
    {
     "data": {
      "text/plain": [
       "1.1070763"
      ]
     },
     "execution_count": 30,
     "metadata": {},
     "output_type": "execute_result"
    }
   ],
   "source": [
    "np.sum(abs(model.w_fs.weight.detach().numpy()[:, 193]))"
   ]
  },
  {
   "cell_type": "code",
   "execution_count": 31,
   "metadata": {},
   "outputs": [
    {
     "data": {
      "text/plain": [
       "1.5398659"
      ]
     },
     "execution_count": 31,
     "metadata": {},
     "output_type": "execute_result"
    }
   ],
   "source": [
    "np.sum(abs(model.w_sf.weight.detach().numpy()[3, :]))"
   ]
  },
  {
   "cell_type": "code",
   "execution_count": 32,
   "metadata": {},
   "outputs": [
    {
     "data": {
      "text/plain": [
       "0.52846926"
      ]
     },
     "execution_count": 32,
     "metadata": {},
     "output_type": "execute_result"
    }
   ],
   "source": [
    "np.sum(abs(model.w_sf.weight.detach().numpy()[40, :]))"
   ]
  },
  {
   "cell_type": "code",
   "execution_count": 33,
   "metadata": {},
   "outputs": [
    {
     "data": {
      "text/plain": [
       "0.23475303"
      ]
     },
     "execution_count": 33,
     "metadata": {},
     "output_type": "execute_result"
    }
   ],
   "source": [
    "np.sum(abs(model.w_sf.weight.detach().numpy()[167, :]))"
   ]
  },
  {
   "cell_type": "code",
   "execution_count": 34,
   "metadata": {},
   "outputs": [
    {
     "data": {
      "text/plain": [
       "1.5416259"
      ]
     },
     "execution_count": 34,
     "metadata": {},
     "output_type": "execute_result"
    }
   ],
   "source": [
    "np.sum(abs(model.w_sf.weight.detach().numpy()[193, :]))"
   ]
  },
  {
   "cell_type": "code",
   "execution_count": 35,
   "metadata": {},
   "outputs": [
    {
     "data": {
      "text/plain": [
       "2.9233942"
      ]
     },
     "execution_count": 35,
     "metadata": {},
     "output_type": "execute_result"
    }
   ],
   "source": [
    "np.sum(abs(model.w_hh.weight.detach().numpy()[:, 3]))"
   ]
  },
  {
   "cell_type": "code",
   "execution_count": 36,
   "metadata": {},
   "outputs": [
    {
     "data": {
      "text/plain": [
       "1.2434645"
      ]
     },
     "execution_count": 36,
     "metadata": {},
     "output_type": "execute_result"
    }
   ],
   "source": [
    "np.sum(abs(model.w_hh.weight.detach().numpy()[:, 40]))"
   ]
  },
  {
   "cell_type": "code",
   "execution_count": 37,
   "metadata": {},
   "outputs": [
    {
     "data": {
      "text/plain": [
       "0.6391858"
      ]
     },
     "execution_count": 37,
     "metadata": {},
     "output_type": "execute_result"
    }
   ],
   "source": [
    "np.sum(abs(model.w_hh.weight.detach().numpy()[:, 167]))"
   ]
  },
  {
   "cell_type": "code",
   "execution_count": 38,
   "metadata": {},
   "outputs": [
    {
     "data": {
      "text/plain": [
       "2.8994083"
      ]
     },
     "execution_count": 38,
     "metadata": {},
     "output_type": "execute_result"
    }
   ],
   "source": [
    "np.sum(abs(model.w_hh.weight.detach().numpy()[3, :]))"
   ]
  },
  {
   "cell_type": "code",
   "execution_count": 39,
   "metadata": {},
   "outputs": [
    {
     "data": {
      "text/plain": [
       "0.8881061"
      ]
     },
     "execution_count": 39,
     "metadata": {},
     "output_type": "execute_result"
    }
   ],
   "source": [
    "np.sum(abs(model.w_hh.weight.detach().numpy()[40, :]))"
   ]
  },
  {
   "cell_type": "code",
   "execution_count": 40,
   "metadata": {},
   "outputs": [
    {
     "data": {
      "text/plain": [
       "0.61474663"
      ]
     },
     "execution_count": 40,
     "metadata": {},
     "output_type": "execute_result"
    }
   ],
   "source": [
    "np.sum(abs(model.w_hh.weight.detach().numpy()[167, :]))"
   ]
  },
  {
   "cell_type": "code",
   "execution_count": 41,
   "metadata": {},
   "outputs": [
    {
     "data": {
      "text/plain": [
       "{0: 1.2494994,\n",
       " 1: 0.68368363,\n",
       " 3: 3.393336,\n",
       " 4: 1.0659238,\n",
       " 5: 1.1005243,\n",
       " 6: 0.8373588,\n",
       " 8: 1.4902542,\n",
       " 9: 2.557947,\n",
       " 10: 1.0772679,\n",
       " 11: 6.5191097,\n",
       " 13: 7.812404,\n",
       " 18: 2.6152945,\n",
       " 19: 4.4604664,\n",
       " 20: 1.5835531,\n",
       " 22: 1.4292167,\n",
       " 23: 1.159005,\n",
       " 24: 2.1779335,\n",
       " 25: 4.4161563,\n",
       " 26: 4.251831,\n",
       " 27: 3.0468066,\n",
       " 28: 0.6850121,\n",
       " 30: 7.184814,\n",
       " 31: 1.9539349,\n",
       " 33: 0.8629858,\n",
       " 34: 0.9394849,\n",
       " 35: 1.0442326,\n",
       " 36: 0.84245145,\n",
       " 38: 1.1904367,\n",
       " 39: 3.0295284,\n",
       " 40: 1.003211,\n",
       " 41: 2.200551,\n",
       " 42: 2.9866989,\n",
       " 45: 0.6139795,\n",
       " 49: 1.296445}"
      ]
     },
     "execution_count": 41,
     "metadata": {},
     "output_type": "execute_result"
    }
   ],
   "source": [
    "reservoir_coding_ratio_dict"
   ]
  },
  {
   "cell_type": "code",
   "execution_count": 42,
   "metadata": {},
   "outputs": [
    {
     "data": {
      "text/plain": [
       "[<matplotlib.lines.Line2D at 0x7fa4987670f0>]"
      ]
     },
     "execution_count": 42,
     "metadata": {},
     "output_type": "execute_result"
    },
    {
     "data": {
      "image/png": "[encoded data removed]",
      "text/plain": [
       "<Figure size 432x288 with 1 Axes>"
      ]
     },
     "metadata": {},
     "output_type": "display_data"
    }
   ],
   "source": [
    "plt.plot(neural_dynamics[0, :, 6])"
   ]
  },
  {
   "cell_type": "code",
   "execution_count": null,
   "metadata": {},
   "outputs": [],
   "source": []
  },
  {
   "cell_type": "code",
   "execution_count": null,
   "metadata": {},
   "outputs": [],
   "source": []
  }
 ],
 "metadata": {
  "kernelspec": {
   "display_name": "Python 3",
   "language": "python",
   "name": "python3"
  },
  "language_info": {
   "codemirror_mode": {
    "name": "ipython",
    "version": 3
   },
   "file_extension": ".py",
   "mimetype": "text/x-python",
   "name": "python",
   "nbconvert_exporter": "python",
   "pygments_lexer": "ipython3",
   "version": "3.6.4"
  }
 },
 "nbformat": 4,
 "nbformat_minor": 2
}

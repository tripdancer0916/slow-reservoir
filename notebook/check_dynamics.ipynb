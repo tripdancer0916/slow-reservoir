{
 "cells": [
  {
   "cell_type": "code",
   "execution_count": 8,
   "metadata": {},
   "outputs": [],
   "source": [
    "import os\n",
    "import math\n",
    "\n",
    "import matplotlib\n",
    "import numpy as np\n",
    "import sys\n",
    "import scipy\n",
    "import yaml\n",
    "\n",
    "sys.path.append('../')\n",
    "import torch\n",
    "import torch.nn as nn\n",
    "import torch.nn.functional as F\n",
    "\n",
    "import matplotlib.pyplot as plt\n",
    "from mpl_toolkits.mplot3d import Axes3D\n",
    "\n",
    "from sklearn.decomposition import PCA\n",
    "from matplotlib import cm\n",
    "\n",
    "from slow_reservoir.model import RNN\n",
    "\n",
    "%matplotlib inline"
   ]
  },
  {
   "cell_type": "code",
   "execution_count": 9,
   "metadata": {},
   "outputs": [],
   "source": [
    "def make_signal(N, time_length, mu_min, mu_max, uncertainty=10, pre_sigma=3, fix=False):\n",
    "    input_signals = np.zeros([N, time_length, 100])\n",
    "    phi = np.linspace(-2, 2, 100)\n",
    "    sigma_sq = 0.5\n",
    "    target_list = np.zeros([N, 400])\n",
    "    signal_mu_list = []\n",
    "    \n",
    "    for i in range(N):\n",
    "        signal_input = np.zeros([time_length, 100])\n",
    "        true_signal = np.random.normal(0, 0.2)\n",
    "        g = 1\n",
    "        signal_sigma = np.sqrt(1 / g) * 0.5\n",
    "        signal_mu = np.random.normal(true_signal, signal_sigma)\n",
    "        \n",
    "        # signal\n",
    "        signal_base = g * 1 * np.exp(-(signal_mu - phi) ** 2 / (2.0 * sigma_sq))\n",
    "        for t in range(time_length):\n",
    "            signal_input[t] = np.random.poisson(signal_base)\n",
    "        \n",
    "        input_signals[i] = signal_input\n",
    "        signal_mu_list.append(signal_mu)\n",
    "        \n",
    "    return input_signals, signal_mu_list"
   ]
  },
  {
   "cell_type": "code",
   "execution_count": 19,
   "metadata": {},
   "outputs": [
    {
     "name": "stdout",
     "output_type": "stream",
     "text": [
      "model_name:  20220325_2\n"
     ]
    },
    {
     "data": {
      "text/plain": [
       "RNN(\n",
       "  (w_in): Linear(in_features=100, out_features=200, bias=True)\n",
       "  (w_hh): Linear(in_features=200, out_features=200, bias=True)\n",
       "  (w_out): Linear(in_features=200, out_features=1, bias=True)\n",
       "  (w_fs): Linear(in_features=200, out_features=50, bias=True)\n",
       "  (w_sf): Linear(in_features=50, out_features=200, bias=True)\n",
       "  (w_reservoir): Linear(in_features=50, out_features=50, bias=True)\n",
       "  (w_prior): Linear(in_features=50, out_features=100, bias=True)\n",
       ")"
      ]
     },
     "execution_count": 19,
     "metadata": {},
     "output_type": "execute_result"
    }
   ],
   "source": [
    "config_path = '../slow_reservoir/trained_model/steady_state/20220325_2/20220325_2.cfg'\n",
    "with open(config_path, 'r') as f:\n",
    "    cfg = yaml.safe_load(f)\n",
    "    \n",
    "\n",
    "model_name = os.path.splitext(os.path.basename(config_path))[0]\n",
    "print('model_name: ', model_name)\n",
    "\n",
    "torch.manual_seed(1)\n",
    "device = torch.device('cpu')\n",
    "\n",
    "model = RNN(\n",
    "        n_in=cfg['DATALOADER']['INPUT_NEURON'],\n",
    "        n_out=1,\n",
    "        n_hid=cfg['MODEL']['SIZE'],\n",
    "        n_reservoir=cfg['MODEL']['RESERVOIR'],\n",
    "        device=device,\n",
    "        alpha_fast=cfg['MODEL']['ALPHA_FAST'],\n",
    "        alpha_slow=cfg['MODEL']['ALPHA_SLOW'],\n",
    "        sigma_neu=cfg['MODEL']['SIGMA_NEU'],\n",
    "    ).to(device)\n",
    "\n",
    "model_path = f'../slow_reservoir/trained_model/steady_state/{model_name}/epoch_20.pth'\n",
    "model.load_state_dict(torch.load(model_path, map_location=device))\n",
    "model.eval()\n",
    "\n"
   ]
  },
  {
   "cell_type": "code",
   "execution_count": 20,
   "metadata": {},
   "outputs": [],
   "source": [
    "sample_num = 1\n",
    "input_signal, signal_mu_list = make_signal(\n",
    "    sample_num, \n",
    "    time_length=300, \n",
    "    mu_min=-2,\n",
    "    mu_max=2,\n",
    "    uncertainty=0.5,\n",
    "    pre_sigma=0,\n",
    "    fix=False,\n",
    ")\n",
    "\n",
    "hidden_np = np.random.normal(0, 0.5, size=(sample_num, cfg['MODEL']['SIZE']))\n",
    "hidden = torch.from_numpy(hidden_np).float()                               \n",
    "hidden = hidden.to(device)                                                   \n",
    "\n",
    "reservoir_np = np.random.normal(0, 0.5, size=(sample_num, cfg['MODEL']['RESERVOIR']))\n",
    "reservoir = torch.from_numpy(reservoir_np).float()\n",
    "reservoir = reservoir.to(device)\n",
    "        \n",
    "inputs = torch.from_numpy(input_signal).float()                                               \n",
    "inputs = inputs.to(device)                                                                             \n",
    "hidden_list, outputs, prior_list = model(inputs, hidden, reservoir, 300)                                                     \n",
    "neural_dynamics = hidden_list.cpu().detach().numpy()   \n"
   ]
  },
  {
   "cell_type": "code",
   "execution_count": 22,
   "metadata": {},
   "outputs": [
    {
     "data": {
      "text/plain": [
       "array([-0.07474899,  0.09590056, -0.1655451 , -0.183456  ,  0.23376883,\n",
       "       -0.29225392, -0.21366702, -0.21727915, -0.3232589 , -0.06017791])"
      ]
     },
     "execution_count": 22,
     "metadata": {},
     "output_type": "execute_result"
    }
   ],
   "source": [
    "np.random.normal(0, 0.2, 10)"
   ]
  },
  {
   "cell_type": "code",
   "execution_count": null,
   "metadata": {},
   "outputs": [],
   "source": [
    "np.random.normal(0, 0.2, 10)"
   ]
  },
  {
   "cell_type": "code",
   "execution_count": 21,
   "metadata": {},
   "outputs": [
    {
     "data": {
      "text/plain": [
       "[<matplotlib.lines.Line2D at 0x7fb3d2c60860>]"
      ]
     },
     "execution_count": 21,
     "metadata": {},
     "output_type": "execute_result"
    },
    {
     "data": {
      "image/png": "[encoded data removed]",
      "text/plain": [
       "<Figure size 432x288 with 1 Axes>"
      ]
     },
     "metadata": {},
     "output_type": "display_data"
    }
   ],
   "source": [
    "plt.plot(np.linspace(-2, 2, 100), prior_list[0, 30].detach().numpy())\n",
    "plt.plot(np.linspace(-2, 2, 100), prior_list[0, 290].detach().numpy())"
   ]
  },
  {
   "cell_type": "code",
   "execution_count": 6,
   "metadata": {},
   "outputs": [
    {
     "data": {
      "text/plain": [
       "tensor([[0.7633, 0.8512, 0.9228, 0.9946, 0.9986, 1.0000, 0.9895, 0.9358, 0.9799,\n",
       "         0.7887],\n",
       "        [0.7631, 0.8542, 0.9228, 0.9947, 0.9986, 1.0000, 0.9897, 0.9360, 0.9802,\n",
       "         0.7886],\n",
       "        [0.7639, 0.8546, 0.9234, 0.9948, 0.9987, 1.0000, 0.9898, 0.9371, 0.9805,\n",
       "         0.7878],\n",
       "        [0.7676, 0.8533, 0.9222, 0.9949, 0.9987, 1.0000, 0.9898, 0.9378, 0.9804,\n",
       "         0.7872],\n",
       "        [0.7659, 0.8537, 0.9230, 0.9949, 0.9987, 1.0000, 0.9899, 0.9389, 0.9807,\n",
       "         0.7867],\n",
       "        [0.7689, 0.8525, 0.9235, 0.9950, 0.9987, 1.0000, 0.9899, 0.9398, 0.9811,\n",
       "         0.7877],\n",
       "        [0.7693, 0.8545, 0.9259, 0.9952, 0.9988, 1.0000, 0.9902, 0.9407, 0.9814,\n",
       "         0.7935],\n",
       "        [0.7700, 0.8549, 0.9260, 0.9952, 0.9988, 1.0000, 0.9901, 0.9408, 0.9814,\n",
       "         0.7931],\n",
       "        [0.7712, 0.8553, 0.9264, 0.9951, 0.9988, 1.0000, 0.9901, 0.9409, 0.9816,\n",
       "         0.7922],\n",
       "        [0.7684, 0.8555, 0.9263, 0.9952, 0.9988, 1.0000, 0.9902, 0.9405, 0.9815,\n",
       "         0.7947]], grad_fn=<SliceBackward>)"
      ]
     },
     "execution_count": 6,
     "metadata": {},
     "output_type": "execute_result"
    }
   ],
   "source": [
    "prior_list[0, -10:, 25:35]"
   ]
  },
  {
   "cell_type": "code",
   "execution_count": null,
   "metadata": {},
   "outputs": [],
   "source": [
    "def np_softmax(x):\n",
    "    y = np.exp(x - np.max(x))\n",
    "    f_x = y / np.sum(np.exp(x))\n",
    "    \n",
    "    f_x = np.exp(x) / np.sum(np.exp(x))\n",
    "    return f_x"
   ]
  },
  {
   "cell_type": "code",
   "execution_count": 17,
   "metadata": {},
   "outputs": [],
   "source": [
    "phi = np.linspace(-2, 2, cfg['DATALOADER']['INPUT_NEURON'])\n",
    "tmp_likelihood = np.exp(-(0 - phi) ** 2 / (2.0 * (0.25**2)))\n",
    "\n",
    "likelihood = tmp_likelihood / np.sum(tmp_likelihood)"
   ]
  },
  {
   "cell_type": "code",
   "execution_count": 15,
   "metadata": {},
   "outputs": [],
   "source": [
    "target = np.exp(-(-0.8 - phi) ** 2 / (2.0 * (0.25**2)))\n",
    "target /= np.sum(target)"
   ]
  },
  {
   "cell_type": "code",
   "execution_count": 18,
   "metadata": {},
   "outputs": [
    {
     "data": {
      "text/plain": [
       "[<matplotlib.lines.Line2D at 0x7fb3d29f0b70>]"
      ]
     },
     "execution_count": 18,
     "metadata": {},
     "output_type": "execute_result"
    },
    {
     "data": {
      "image/png": "[encoded data removed]",
      "text/plain": [
       "<Figure size 432x288 with 1 Axes>"
      ]
     },
     "metadata": {},
     "output_type": "display_data"
    }
   ],
   "source": [
    "plt.plot(np.linspace(-2, 2, 100), likelihood*prior_list[0, 30].detach().numpy())"
   ]
  },
  {
   "cell_type": "code",
   "execution_count": 16,
   "metadata": {},
   "outputs": [
    {
     "data": {
      "text/plain": [
       "[<matplotlib.lines.Line2D at 0x7fb3d1ba6f28>]"
      ]
     },
     "execution_count": 16,
     "metadata": {},
     "output_type": "execute_result"
    },
    {
     "data": {
      "image/png": "[encoded data removed]",
      "text/plain": [
       "<Figure size 432x288 with 1 Axes>"
      ]
     },
     "metadata": {},
     "output_type": "display_data"
    }
   ],
   "source": [
    "plt.plot(np.linspace(-2, 2, 100), prior_list[0, 30].detach().numpy())\n",
    "\n",
    "plt.plot(np.linspace(-2, 2, 100), target)"
   ]
  },
  {
   "cell_type": "code",
   "execution_count": null,
   "metadata": {},
   "outputs": [],
   "source": [
    "prior = prior_list[0, 30].detach().numpy()\n",
    "plt.plot(np.linspace(-2, 2, 100), prior, label='prior')\n",
    "# plt.plot(np.linspace(-2, 2, 100), likelihood, label='likelihood')\n",
    "posterior = likelihood * prior\n",
    "posterior = posterior / np.sum(likelihood * prior)\n",
    "\n",
    "# plt.plot(np.linspace(-2, 2, 100), posterior, label='posterior')\n",
    "plt.plot(np.linspace(-2, 2, 100), target, label='target')\n",
    "\n",
    "plt.legend()"
   ]
  },
  {
   "cell_type": "code",
   "execution_count": null,
   "metadata": {},
   "outputs": [],
   "source": [
    "np.argmax(prior)"
   ]
  },
  {
   "cell_type": "code",
   "execution_count": null,
   "metadata": {},
   "outputs": [],
   "source": [
    "likelihood"
   ]
  },
  {
   "cell_type": "code",
   "execution_count": null,
   "metadata": {},
   "outputs": [],
   "source": [
    "np.argmax(prior)"
   ]
  },
  {
   "cell_type": "code",
   "execution_count": null,
   "metadata": {},
   "outputs": [],
   "source": [
    "np.argmax(likelihood)"
   ]
  },
  {
   "cell_type": "code",
   "execution_count": null,
   "metadata": {},
   "outputs": [],
   "source": [
    "prior[0] * likelihood[0]"
   ]
  },
  {
   "cell_type": "code",
   "execution_count": null,
   "metadata": {},
   "outputs": [],
   "source": [
    "prior[30] * likelihood[30]"
   ]
  },
  {
   "cell_type": "code",
   "execution_count": null,
   "metadata": {},
   "outputs": [],
   "source": [
    "prior[95] * likelihood[95]"
   ]
  },
  {
   "cell_type": "code",
   "execution_count": null,
   "metadata": {},
   "outputs": [],
   "source": [
    "np.argmax(posterior)"
   ]
  },
  {
   "cell_type": "code",
   "execution_count": null,
   "metadata": {},
   "outputs": [],
   "source": [
    "posterior[np.argmax(posterior)]"
   ]
  },
  {
   "cell_type": "code",
   "execution_count": null,
   "metadata": {},
   "outputs": [],
   "source": [
    "plt.plot(np.linspace(-2, 2, 100), np_softmax(prior_list[0, 30].detach().numpy()))"
   ]
  },
  {
   "cell_type": "code",
   "execution_count": null,
   "metadata": {},
   "outputs": [],
   "source": [
    "prior_list[0, 30].detach().numpy()"
   ]
  },
  {
   "cell_type": "code",
   "execution_count": null,
   "metadata": {},
   "outputs": [],
   "source": [
    "import seaborn as sns\n",
    "sns.heatmap(input_signal[0, :])"
   ]
  },
  {
   "cell_type": "code",
   "execution_count": null,
   "metadata": {},
   "outputs": [],
   "source": [
    "signal_mu_list[0]"
   ]
  },
  {
   "cell_type": "code",
   "execution_count": null,
   "metadata": {},
   "outputs": [],
   "source": [
    "phi = np.linspace(-2, 2, 100)\n",
    "tmp_likelihood1 = np.exp(-(1 - phi) ** 2 / (2.0 * (0.25**2)))\n",
    "tmp_likelihood2 = np.exp(-(1 - phi) ** 2 / (2.0 * (0.5**2)))"
   ]
  },
  {
   "cell_type": "code",
   "execution_count": null,
   "metadata": {},
   "outputs": [],
   "source": [
    "plt.plot(tmp_likelihood1 / np.sum(tmp_likelihood1))\n",
    "plt.plot(tmp_likelihood2 / np.sum(tmp_likelihood2))"
   ]
  },
  {
   "cell_type": "code",
   "execution_count": null,
   "metadata": {},
   "outputs": [],
   "source": []
  }
 ],
 "metadata": {
  "kernelspec": {
   "display_name": "Python 3",
   "language": "python",
   "name": "python3"
  },
  "language_info": {
   "codemirror_mode": {
    "name": "ipython",
    "version": 3
   },
   "file_extension": ".py",
   "mimetype": "text/x-python",
   "name": "python",
   "nbconvert_exporter": "python",
   "pygments_lexer": "ipython3",
   "version": "3.6.4"
  }
 },
 "nbformat": 4,
 "nbformat_minor": 2
}

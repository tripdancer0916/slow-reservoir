{
 "cells": [
  {
   "cell_type": "code",
   "execution_count": 1,
   "metadata": {},
   "outputs": [],
   "source": [
    "import copy\n",
    "import os\n",
    "import math\n",
    "import sys\n",
    "\n",
    "import numpy as np\n",
    "import yaml\n",
    "\n",
    "import torch\n",
    "import torch.nn as nn\n",
    "import torch.nn.functional as F\n",
    "\n",
    "sys.path.append('../')\n",
    "from slow_reservoir.model import RNN\n",
    "from slow_reservoir.dataset.dynamic_state import State\n",
    "\n",
    "import matplotlib.pyplot as plt\n",
    "\n",
    "%matplotlib inline"
   ]
  },
  {
   "cell_type": "code",
   "execution_count": 2,
   "metadata": {},
   "outputs": [],
   "source": [
    "sigma_sq = 0.5"
   ]
  },
  {
   "cell_type": "code",
   "execution_count": 108,
   "metadata": {},
   "outputs": [],
   "source": [
    "def make_signal_for_prior(time_length, mu_p, sigma_p, uncertainty=0.5, g=2):\n",
    "    input_signals = np.zeros([1, time_length, 100])\n",
    "    phi = np.linspace(-2, 2, 100)\n",
    "    \n",
    "    state = State(mu=mu_p, sigma=sigma_p)\n",
    "    \n",
    "    for i in range(1):\n",
    "        signal_input = np.zeros([time_length, 100])\n",
    "        for t in range(time_length):\n",
    "            true_signal = state()\n",
    "            signal_sigma = np.sqrt(1 / g) * uncertainty\n",
    "            signal_mu = np.random.normal(true_signal, signal_sigma)\n",
    "            \n",
    "            signal_base = g * np.exp(-(signal_mu - phi) ** 2 / (2.0 * sigma_sq))\n",
    "            signal_input[t] = np.random.poisson(signal_base)\n",
    "        \n",
    "        input_signals[i] = signal_input\n",
    "        \n",
    "    return input_signals\n",
    "\n",
    "\n",
    "def make_sample_signal(g=2):\n",
    "    input_signals = np.zeros([21, 4, 100])\n",
    "    phi = np.linspace(-2, 2, 100)\n",
    "    \n",
    "    for i, signal_mu in enumerate(np.linspace(-0.5, 0.5, 21)):\n",
    "        signal_base = g * np.exp(-(signal_mu - phi) ** 2 / (2.0 * sigma_sq))\n",
    "        for t in range(4):\n",
    "            input_signals[i, t] = np.random.poisson(signal_base)\n",
    "        \n",
    "    return input_signals"
   ]
  },
  {
   "cell_type": "code",
   "execution_count": 109,
   "metadata": {},
   "outputs": [
    {
     "name": "stdout",
     "output_type": "stream",
     "text": [
      "model_name:  20220428_4\n"
     ]
    },
    {
     "data": {
      "text/plain": [
       "RNN(\n",
       "  (w_in): Linear(in_features=100, out_features=200, bias=True)\n",
       "  (w_hh): Linear(in_features=200, out_features=200, bias=True)\n",
       "  (w_out): Linear(in_features=200, out_features=1, bias=True)\n",
       "  (w_fs): Linear(in_features=200, out_features=50, bias=True)\n",
       "  (w_sf): Linear(in_features=50, out_features=200, bias=True)\n",
       "  (w_reservoir): Linear(in_features=50, out_features=50, bias=True)\n",
       "  (w_prior): Linear(in_features=50, out_features=100, bias=True)\n",
       ")"
      ]
     },
     "execution_count": 109,
     "metadata": {},
     "output_type": "execute_result"
    }
   ],
   "source": [
    "config_path = '../slow_reservoir/trained_model/dynamic_state_random/20220428_4/20220428_4.cfg'\n",
    "with open(config_path, 'r') as f:\n",
    "    cfg = yaml.safe_load(f)\n",
    "    \n",
    "\n",
    "model_name = os.path.splitext(os.path.basename(config_path))[0]\n",
    "print('model_name: ', model_name)\n",
    "\n",
    "torch.manual_seed(1)\n",
    "device = torch.device('cpu')\n",
    "\n",
    "model = RNN(\n",
    "        n_in=cfg['DATALOADER']['INPUT_NEURON'],\n",
    "        n_out=1,\n",
    "        n_hid=cfg['MODEL']['SIZE'],\n",
    "        n_reservoir=cfg['MODEL']['RESERVOIR'],\n",
    "        device=device,\n",
    "        alpha_fast=cfg['MODEL']['ALPHA_FAST'],\n",
    "        alpha_slow=cfg['MODEL']['ALPHA_SLOW'],\n",
    "        sigma_neu=cfg['MODEL']['SIGMA_NEU'],\n",
    "    ).to(device)\n",
    "\n",
    "model_path = f'../slow_reservoir/trained_model/dynamic_state_random/{model_name}/epoch_500.pth'\n",
    "model.load_state_dict(torch.load(model_path, map_location=device))\n",
    "model.eval()\n",
    "\n"
   ]
  },
  {
   "cell_type": "code",
   "execution_count": 110,
   "metadata": {},
   "outputs": [
    {
     "data": {
      "text/plain": [
       "array([-0.5 , -0.45, -0.4 , -0.35, -0.3 , -0.25, -0.2 , -0.15, -0.1 ,\n",
       "       -0.05,  0.  ,  0.05,  0.1 ,  0.15,  0.2 ,  0.25,  0.3 ,  0.35,\n",
       "        0.4 ,  0.45,  0.5 ])"
      ]
     },
     "execution_count": 110,
     "metadata": {},
     "output_type": "execute_result"
    }
   ],
   "source": [
    "np.linspace(-0.5, 0.5, 21)"
   ]
  },
  {
   "cell_type": "code",
   "execution_count": 111,
   "metadata": {},
   "outputs": [],
   "source": [
    "main_network_dynamics = np.zeros((21, 21, 200))\n",
    "sub_network_dynamics = np.zeros((21, 21, 50))"
   ]
  },
  {
   "cell_type": "code",
   "execution_count": 131,
   "metadata": {},
   "outputs": [],
   "source": [
    "sigma_p = 0.2\n",
    "sigma_l = math.sqrt(1/1) * 0.5\n",
    "g = 1 / (4 * sigma_l)\n",
    "\n",
    "sample_signal = make_sample_signal(g=g)\n",
    "\n",
    "for i, mu_p in enumerate(np.linspace(-0.5, 0.5, 21)):\n",
    "    input_signal = make_signal_for_prior(\n",
    "        time_length=50, \n",
    "        mu_p=mu_p,\n",
    "        sigma_p=sigma_p,\n",
    "        uncertainty=0.5,\n",
    "        g=g,\n",
    "    )\n",
    "    inputs = torch.from_numpy(input_signal).float()                                 \n",
    "    inputs = inputs.to(device) \n",
    "    hidden_np = np.random.normal(0, 0.5, size=(1, cfg['MODEL']['SIZE']))\n",
    "    reservoir_np = np.random.normal(0, 0.5, size=(1, cfg['MODEL']['RESERVOIR']))\n",
    "         \n",
    "    hidden = torch.from_numpy(hidden_np).float()                               \n",
    "    hidden = hidden.to(device) \n",
    "    reservoir = torch.from_numpy(reservoir_np).float()\n",
    "    reservoir = reservoir.to(device)\n",
    "    hidden_list, _, _, reservoir_list = model(inputs, hidden, reservoir, 50) \n",
    "    \n",
    "    neural_dynamics = hidden_list.cpu().detach().numpy()   \n",
    "    reservoir_dynamics = reservoir_list.cpu().detach().numpy()\n",
    "    \n",
    "    initial_state = copy.deepcopy(neural_dynamics[0, -1])\n",
    "    initial_res_state = copy.deepcopy(reservoir_dynamics[0, -1])\n",
    "\n",
    "    hidden_np = initial_state\n",
    "    hidden = torch.from_numpy(hidden_np).float()                               \n",
    "    hidden = hidden.to(device)                                                   \n",
    "    reservoir_np = initial_res_state\n",
    "    reservoir = torch.from_numpy(reservoir_np).float()\n",
    "    reservoir = reservoir.to(device)\n",
    "    \n",
    "    inputs = torch.from_numpy(sample_signal).float()                                 \n",
    "    inputs = inputs.to(device)                                                      \n",
    "    \n",
    "    hidden_list, output_list, _, reservoir_list = model(inputs, hidden, reservoir, 2)\n",
    "\n",
    "    main_network_dynamics[i] = hidden_list.detach().numpy()[:, -1]\n",
    "    sub_network_dynamics[i] = reservoir_list.detach().numpy()[:, -1]\n"
   ]
  },
  {
   "cell_type": "code",
   "execution_count": 132,
   "metadata": {},
   "outputs": [
    {
     "data": {
      "text/plain": [
       "0.010845666480163317"
      ]
     },
     "execution_count": 132,
     "metadata": {},
     "output_type": "execute_result"
    }
   ],
   "source": [
    "np.mean(np.var(main_network_dynamics[:, :, 3], axis=0))"
   ]
  },
  {
   "cell_type": "code",
   "execution_count": 133,
   "metadata": {},
   "outputs": [
    {
     "data": {
      "text/plain": [
       "0.011028483304875375"
      ]
     },
     "execution_count": 133,
     "metadata": {},
     "output_type": "execute_result"
    }
   ],
   "source": [
    "np.mean(np.var(main_network_dynamics[:, :, 3], axis=1))"
   ]
  },
  {
   "cell_type": "code",
   "execution_count": 134,
   "metadata": {},
   "outputs": [
    {
     "data": {
      "text/plain": [
       "0.009410499346846004"
      ]
     },
     "execution_count": 134,
     "metadata": {},
     "output_type": "execute_result"
    }
   ],
   "source": [
    "np.mean(np.var(main_network_dynamics[:, :, 18], axis=0))"
   ]
  },
  {
   "cell_type": "code",
   "execution_count": 135,
   "metadata": {},
   "outputs": [
    {
     "data": {
      "text/plain": [
       "0.009466949933869253"
      ]
     },
     "execution_count": 135,
     "metadata": {},
     "output_type": "execute_result"
    }
   ],
   "source": [
    "np.mean(np.var(main_network_dynamics[:, :, 18], axis=1))"
   ]
  },
  {
   "cell_type": "code",
   "execution_count": 136,
   "metadata": {},
   "outputs": [
    {
     "data": {
      "text/plain": [
       "0.04268911960974259"
      ]
     },
     "execution_count": 136,
     "metadata": {},
     "output_type": "execute_result"
    }
   ],
   "source": [
    "np.mean(np.var(sub_network_dynamics[:, :, 1], axis=0))"
   ]
  },
  {
   "cell_type": "code",
   "execution_count": 137,
   "metadata": {},
   "outputs": [
    {
     "data": {
      "text/plain": [
       "0.00019117717670001644"
      ]
     },
     "execution_count": 137,
     "metadata": {},
     "output_type": "execute_result"
    }
   ],
   "source": [
    "np.mean(np.var(sub_network_dynamics[:, :, 1], axis=1))"
   ]
  },
  {
   "cell_type": "code",
   "execution_count": 138,
   "metadata": {},
   "outputs": [
    {
     "data": {
      "text/plain": [
       "0.00022631639709609028"
      ]
     },
     "execution_count": 138,
     "metadata": {},
     "output_type": "execute_result"
    }
   ],
   "source": [
    "np.mean(np.var(sub_network_dynamics[:, :, 5], axis=1))"
   ]
  },
  {
   "cell_type": "code",
   "execution_count": 139,
   "metadata": {},
   "outputs": [
    {
     "data": {
      "text/plain": [
       "0.058142312740694445"
      ]
     },
     "execution_count": 139,
     "metadata": {},
     "output_type": "execute_result"
    }
   ],
   "source": [
    "np.mean(np.var(main_network_dynamics[:, :, 6], axis=1))"
   ]
  },
  {
   "cell_type": "code",
   "execution_count": 140,
   "metadata": {},
   "outputs": [
    {
     "data": {
      "text/plain": [
       "0.2148937804152978"
      ]
     },
     "execution_count": 140,
     "metadata": {},
     "output_type": "execute_result"
    }
   ],
   "source": [
    "np.mean(np.var(main_network_dynamics[:, :, 6], axis=0))"
   ]
  },
  {
   "cell_type": "code",
   "execution_count": 141,
   "metadata": {},
   "outputs": [
    {
     "data": {
      "text/plain": [
       "[<matplotlib.lines.Line2D at 0x7f8b4e4df6d8>]"
      ]
     },
     "execution_count": 141,
     "metadata": {},
     "output_type": "execute_result"
    },
    {
     "data": {
      "image/png": "[encoded data removed]",
      "text/plain": [
       "<Figure size 432x288 with 1 Axes>"
      ]
     },
     "metadata": {},
     "output_type": "display_data"
    }
   ],
   "source": [
    "plt.plot(np.mean(np.var(main_network_dynamics[:, :, :], axis=1), axis=0))\n",
    "plt.plot(np.mean(np.var(main_network_dynamics[:, :, :], axis=0), axis=0))"
   ]
  },
  {
   "cell_type": "code",
   "execution_count": 142,
   "metadata": {},
   "outputs": [
    {
     "data": {
      "text/plain": [
       "[<matplotlib.lines.Line2D at 0x7f8b4e9fe518>]"
      ]
     },
     "execution_count": 142,
     "metadata": {},
     "output_type": "execute_result"
    },
    {
     "data": {
      "image/png": "[encoded data removed]",
      "text/plain": [
       "<Figure size 432x288 with 1 Axes>"
      ]
     },
     "metadata": {},
     "output_type": "display_data"
    }
   ],
   "source": [
    "plt.plot(np.mean(np.var(main_network_dynamics[:, :, 50:75], axis=1), axis=0))\n",
    "plt.plot(np.mean(np.var(main_network_dynamics[:, :, 50:75], axis=0), axis=0))"
   ]
  },
  {
   "cell_type": "code",
   "execution_count": 143,
   "metadata": {},
   "outputs": [],
   "source": [
    "likelihood_variance = np.mean(np.var(main_network_dynamics[:, :, :], axis=1), axis=0)\n",
    "prior_variance = np.mean(np.var(main_network_dynamics[:, :, :], axis=0), axis=0)"
   ]
  },
  {
   "cell_type": "code",
   "execution_count": 144,
   "metadata": {},
   "outputs": [],
   "source": [
    "role_of_neurons = {}\n",
    "likelihood_neurons = []\n",
    "prior_neurons = []\n",
    "for i in range(likelihood_variance.shape[0]):\n",
    "    if max(likelihood_variance[i], prior_variance[i]) > 0.0:\n",
    "        role_of_neurons[i] = likelihood_variance[i] / prior_variance[i]\n",
    "        if likelihood_variance[i] / prior_variance[i] > 1.5:\n",
    "            likelihood_neurons.append(i)\n",
    "        elif likelihood_variance[i] / prior_variance[i] <= 0.6:\n",
    "            prior_neurons.append(i)"
   ]
  },
  {
   "cell_type": "code",
   "execution_count": 145,
   "metadata": {},
   "outputs": [
    {
     "data": {
      "text/plain": [
       "{0: 0.9838964412768116,\n",
       " 1: 0.9728897436247947,\n",
       " 2: 1.0507368406265583,\n",
       " 3: 1.016856209348354,\n",
       " 4: 1.029837322079948,\n",
       " 5: 0.9736158095987629,\n",
       " 6: 0.27056303178402935,\n",
       " 7: 1.0907596096383434,\n",
       " 8: 1.0013744989622808,\n",
       " 9: 1.2878158137610582,\n",
       " 10: 1.0021941669834065,\n",
       " 11: 1.2634623907757494,\n",
       " 12: 1.1239975507415658,\n",
       " 13: 0.6619780789428126,\n",
       " 14: 0.2535622853344886,\n",
       " 15: 0.9938240312535589,\n",
       " 16: 1.015247293083778,\n",
       " 17: 0.9579955779089332,\n",
       " 18: 1.0059986813603221,\n",
       " 19: 1.0254904933035822,\n",
       " 20: 1.0154281676447534,\n",
       " 21: 0.9940992404832537,\n",
       " 22: 0.9892546297928329,\n",
       " 23: 0.997241416660098,\n",
       " 24: 0.6162512818989182,\n",
       " 25: 0.9920125389103426,\n",
       " 26: 1.0131164733943847,\n",
       " 27: 0.6546267459810233,\n",
       " 28: 0.9808498749698373,\n",
       " 29: 1.0912919954728098,\n",
       " 30: 0.9777422941651764,\n",
       " 31: 1.0051161286970962,\n",
       " 32: 1.0238974925895985,\n",
       " 33: 0.9494797564240544,\n",
       " 34: 0.9216797668981099,\n",
       " 35: 0.9084629106967465,\n",
       " 36: 0.6121694356254408,\n",
       " 37: 1.0189003605591758,\n",
       " 38: 1.0099502965080172,\n",
       " 39: 0.9947950710580182,\n",
       " 40: 1.0133751988202013,\n",
       " 41: 1.032039521814624,\n",
       " 42: 1.7008369082660868,\n",
       " 43: 2.0843693853286847,\n",
       " 44: 0.9841983274687351,\n",
       " 45: 1.1009828339665886,\n",
       " 46: 1.2256344076306063,\n",
       " 47: 0.9960472683767226,\n",
       " 48: 0.9767139816434801,\n",
       " 49: 0.9891060909764293,\n",
       " 50: 0.9897272335727645,\n",
       " 51: 1.0111729038907369,\n",
       " 52: 0.9121913486116124,\n",
       " 53: 0.23803650572773866,\n",
       " 54: 1.111380512217234,\n",
       " 55: 3.3705903704353557,\n",
       " 56: 0.7024805358749944,\n",
       " 57: 1.0116727415401638,\n",
       " 58: 1.0262900677690938,\n",
       " 59: 1.9832297640675067,\n",
       " 60: 0.9923664594581572,\n",
       " 61: 0.7820720826936455,\n",
       " 62: 1.2517085250267694,\n",
       " 63: 0.9943149449859628,\n",
       " 64: 0.9777221439447689,\n",
       " 65: 1.0100713129996657,\n",
       " 66: 1.903210380569914,\n",
       " 67: 0.6628083090265692,\n",
       " 68: 1.2971214493278544,\n",
       " 69: 0.6322859115563317,\n",
       " 70: 0.688446743833255,\n",
       " 71: 1.0503259308793107,\n",
       " 72: 0.9771173046010689,\n",
       " 73: 1.0028807506336401,\n",
       " 74: 0.9908495802074767,\n",
       " 75: 1.008948069755485,\n",
       " 76: 0.9845104954589802,\n",
       " 77: 0.9949144445911468,\n",
       " 78: 0.999729525487358,\n",
       " 79: 1.0556400403071486,\n",
       " 80: 1.0545388409967158,\n",
       " 81: 0.980003134742499,\n",
       " 82: 1.4922736796339995,\n",
       " 83: 1.0132942065726078,\n",
       " 84: 1.0940971755913285,\n",
       " 85: 0.9433486304756128,\n",
       " 86: 1.032600991890989,\n",
       " 87: 0.9608382529184061,\n",
       " 88: 1.0461333107011164,\n",
       " 89: 0.9935923908934168,\n",
       " 90: 1.0157910089421025,\n",
       " 91: 0.9999536924897039,\n",
       " 92: 1.0257525822131324,\n",
       " 93: 1.154608581082733,\n",
       " 94: 1.0236149106824486,\n",
       " 95: 0.9357411180757638,\n",
       " 96: 0.9870747697621862,\n",
       " 97: 0.9723812988903628,\n",
       " 98: 1.0186983490064603,\n",
       " 99: 0.6087394202310239,\n",
       " 100: 0.566443357787375,\n",
       " 101: 0.9262220976152128,\n",
       " 102: 0.35172728345531423,\n",
       " 103: 1.0754474235999132,\n",
       " 104: 1.0089531931871467,\n",
       " 105: 0.6603023721396813,\n",
       " 106: 0.9835298588905647,\n",
       " 107: 0.9911998996420828,\n",
       " 108: 0.9938979631439098,\n",
       " 109: 1.0180986818835844,\n",
       " 110: 1.0597925902697527,\n",
       " 111: 0.973552966836307,\n",
       " 112: 0.9655637272065934,\n",
       " 113: 0.9949482993129682,\n",
       " 114: 1.005927523372246,\n",
       " 115: 1.0509079698425887,\n",
       " 116: 1.0141175933153137,\n",
       " 117: 4.60137135514363,\n",
       " 118: 1.059673479354818,\n",
       " 119: 1.0203676466987817,\n",
       " 120: 0.9350433168491501,\n",
       " 121: 1.0927656675784776,\n",
       " 122: 0.9947294400390951,\n",
       " 123: 1.0165475133149378,\n",
       " 124: 1.014522311037335,\n",
       " 125: 3.9075036652415354,\n",
       " 126: 0.30218177789378825,\n",
       " 127: 1.0252318043874127,\n",
       " 128: 0.9690891945358342,\n",
       " 129: 1.0412539688586333,\n",
       " 130: 0.5116656614684933,\n",
       " 131: 0.9913339270158525,\n",
       " 132: 0.9995155926859361,\n",
       " 133: 0.9180937096371203,\n",
       " 134: 1.0291757553262935,\n",
       " 135: 0.9951206373498217,\n",
       " 136: 1.0193381961025374,\n",
       " 137: 0.20269751965335456,\n",
       " 138: 0.9925678198416897,\n",
       " 139: 0.9755122700573909,\n",
       " 140: 2.394850146791719,\n",
       " 141: 0.28257481739252865,\n",
       " 142: 0.9790448821783779,\n",
       " 143: 0.39804671086282506,\n",
       " 144: 0.2592995881477689,\n",
       " 145: 0.993668775249573,\n",
       " 146: 1.7091221305429145,\n",
       " 147: 0.9822534595040918,\n",
       " 148: 0.6814069706703839,\n",
       " 149: 1.0123000103094075,\n",
       " 150: 1.0059341493081855,\n",
       " 151: 0.9690711467831019,\n",
       " 152: 1.0006407213844564,\n",
       " 153: 1.1099142404722986,\n",
       " 154: 1.024676043658435,\n",
       " 155: 0.9831452344615872,\n",
       " 156: 1.262873614513703,\n",
       " 157: 1.0122856322661649,\n",
       " 158: 0.4830351760022891,\n",
       " 159: 0.9651169229347529,\n",
       " 160: 1.0144318854988472,\n",
       " 161: 1.0318863744224436,\n",
       " 162: 0.972337142191995,\n",
       " 163: 0.9995063145680839,\n",
       " 164: 1.006172656661084,\n",
       " 165: 1.5034214066684055,\n",
       " 166: 1.0287393778670697,\n",
       " 167: 0.9961887887803927,\n",
       " 168: 0.9961358345470034,\n",
       " 169: 0.9620296978065007,\n",
       " 170: 1.0075826029423374,\n",
       " 171: 1.3757142090911414,\n",
       " 172: 0.9759073133452468,\n",
       " 173: 1.002594484900209,\n",
       " 174: 1.131731817449894,\n",
       " 175: 1.027179597188943,\n",
       " 176: 1.0230086602805484,\n",
       " 177: 0.7656331327084778,\n",
       " 178: 0.9878875662678381,\n",
       " 179: 1.0891000686749,\n",
       " 180: 1.0186811745709623,\n",
       " 181: 1.5818966780833605,\n",
       " 182: 0.9895092550751409,\n",
       " 183: 0.9499351605772202,\n",
       " 184: 1.034398638197606,\n",
       " 185: 0.5494318403303562,\n",
       " 186: 0.8230435758821237,\n",
       " 187: 0.9855337339188663,\n",
       " 188: 1.0104101621429873,\n",
       " 189: 1.017330142679986,\n",
       " 190: 1.0294467459786765,\n",
       " 191: 0.4181755349511169,\n",
       " 192: 0.8004624369579161,\n",
       " 193: 2.9890612004180546,\n",
       " 194: 1.095865009565956,\n",
       " 195: 0.9769576126236588,\n",
       " 196: 1.0036685612564948,\n",
       " 197: 0.9778546569232738,\n",
       " 198: 0.943390079972841,\n",
       " 199: 0.8727284182392343}"
      ]
     },
     "execution_count": 145,
     "metadata": {},
     "output_type": "execute_result"
    }
   ],
   "source": [
    "role_of_neurons"
   ]
  },
  {
   "cell_type": "markdown",
   "metadata": {},
   "source": [
    "`role of neurons`が1以上だとlikelihoodへの反応性が大きい。1未満だとpriorへの反応性が大きい"
   ]
  },
  {
   "cell_type": "code",
   "execution_count": 146,
   "metadata": {},
   "outputs": [
    {
     "data": {
      "text/plain": [
       "{0: 0.9838964412768116,\n",
       " 1: 0.9728897436247947,\n",
       " 2: 1.0507368406265583,\n",
       " 3: 1.016856209348354,\n",
       " 4: 1.029837322079948,\n",
       " 5: 0.9736158095987629,\n",
       " 6: 0.27056303178402935,\n",
       " 7: 1.0907596096383434,\n",
       " 8: 1.0013744989622808,\n",
       " 9: 1.2878158137610582,\n",
       " 10: 1.0021941669834065,\n",
       " 11: 1.2634623907757494,\n",
       " 12: 1.1239975507415658,\n",
       " 13: 0.6619780789428126,\n",
       " 14: 0.2535622853344886,\n",
       " 15: 0.9938240312535589,\n",
       " 16: 1.015247293083778,\n",
       " 17: 0.9579955779089332,\n",
       " 18: 1.0059986813603221,\n",
       " 19: 1.0254904933035822,\n",
       " 20: 1.0154281676447534,\n",
       " 21: 0.9940992404832537,\n",
       " 22: 0.9892546297928329,\n",
       " 23: 0.997241416660098,\n",
       " 24: 0.6162512818989182,\n",
       " 25: 0.9920125389103426,\n",
       " 26: 1.0131164733943847,\n",
       " 27: 0.6546267459810233,\n",
       " 28: 0.9808498749698373,\n",
       " 29: 1.0912919954728098,\n",
       " 30: 0.9777422941651764,\n",
       " 31: 1.0051161286970962,\n",
       " 32: 1.0238974925895985,\n",
       " 33: 0.9494797564240544,\n",
       " 34: 0.9216797668981099,\n",
       " 35: 0.9084629106967465,\n",
       " 36: 0.6121694356254408,\n",
       " 37: 1.0189003605591758,\n",
       " 38: 1.0099502965080172,\n",
       " 39: 0.9947950710580182,\n",
       " 40: 1.0133751988202013,\n",
       " 41: 1.032039521814624,\n",
       " 42: 1.7008369082660868,\n",
       " 43: 2.0843693853286847,\n",
       " 44: 0.9841983274687351,\n",
       " 45: 1.1009828339665886,\n",
       " 46: 1.2256344076306063,\n",
       " 47: 0.9960472683767226,\n",
       " 48: 0.9767139816434801,\n",
       " 49: 0.9891060909764293,\n",
       " 50: 0.9897272335727645,\n",
       " 51: 1.0111729038907369,\n",
       " 52: 0.9121913486116124,\n",
       " 53: 0.23803650572773866,\n",
       " 54: 1.111380512217234,\n",
       " 55: 3.3705903704353557,\n",
       " 56: 0.7024805358749944,\n",
       " 57: 1.0116727415401638,\n",
       " 58: 1.0262900677690938,\n",
       " 59: 1.9832297640675067,\n",
       " 60: 0.9923664594581572,\n",
       " 61: 0.7820720826936455,\n",
       " 62: 1.2517085250267694,\n",
       " 63: 0.9943149449859628,\n",
       " 64: 0.9777221439447689,\n",
       " 65: 1.0100713129996657,\n",
       " 66: 1.903210380569914,\n",
       " 67: 0.6628083090265692,\n",
       " 68: 1.2971214493278544,\n",
       " 69: 0.6322859115563317,\n",
       " 70: 0.688446743833255,\n",
       " 71: 1.0503259308793107,\n",
       " 72: 0.9771173046010689,\n",
       " 73: 1.0028807506336401,\n",
       " 74: 0.9908495802074767,\n",
       " 75: 1.008948069755485,\n",
       " 76: 0.9845104954589802,\n",
       " 77: 0.9949144445911468,\n",
       " 78: 0.999729525487358,\n",
       " 79: 1.0556400403071486,\n",
       " 80: 1.0545388409967158,\n",
       " 81: 0.980003134742499,\n",
       " 82: 1.4922736796339995,\n",
       " 83: 1.0132942065726078,\n",
       " 84: 1.0940971755913285,\n",
       " 85: 0.9433486304756128,\n",
       " 86: 1.032600991890989,\n",
       " 87: 0.9608382529184061,\n",
       " 88: 1.0461333107011164,\n",
       " 89: 0.9935923908934168,\n",
       " 90: 1.0157910089421025,\n",
       " 91: 0.9999536924897039,\n",
       " 92: 1.0257525822131324,\n",
       " 93: 1.154608581082733,\n",
       " 94: 1.0236149106824486,\n",
       " 95: 0.9357411180757638,\n",
       " 96: 0.9870747697621862,\n",
       " 97: 0.9723812988903628,\n",
       " 98: 1.0186983490064603,\n",
       " 99: 0.6087394202310239,\n",
       " 100: 0.566443357787375,\n",
       " 101: 0.9262220976152128,\n",
       " 102: 0.35172728345531423,\n",
       " 103: 1.0754474235999132,\n",
       " 104: 1.0089531931871467,\n",
       " 105: 0.6603023721396813,\n",
       " 106: 0.9835298588905647,\n",
       " 107: 0.9911998996420828,\n",
       " 108: 0.9938979631439098,\n",
       " 109: 1.0180986818835844,\n",
       " 110: 1.0597925902697527,\n",
       " 111: 0.973552966836307,\n",
       " 112: 0.9655637272065934,\n",
       " 113: 0.9949482993129682,\n",
       " 114: 1.005927523372246,\n",
       " 115: 1.0509079698425887,\n",
       " 116: 1.0141175933153137,\n",
       " 117: 4.60137135514363,\n",
       " 118: 1.059673479354818,\n",
       " 119: 1.0203676466987817,\n",
       " 120: 0.9350433168491501,\n",
       " 121: 1.0927656675784776,\n",
       " 122: 0.9947294400390951,\n",
       " 123: 1.0165475133149378,\n",
       " 124: 1.014522311037335,\n",
       " 125: 3.9075036652415354,\n",
       " 126: 0.30218177789378825,\n",
       " 127: 1.0252318043874127,\n",
       " 128: 0.9690891945358342,\n",
       " 129: 1.0412539688586333,\n",
       " 130: 0.5116656614684933,\n",
       " 131: 0.9913339270158525,\n",
       " 132: 0.9995155926859361,\n",
       " 133: 0.9180937096371203,\n",
       " 134: 1.0291757553262935,\n",
       " 135: 0.9951206373498217,\n",
       " 136: 1.0193381961025374,\n",
       " 137: 0.20269751965335456,\n",
       " 138: 0.9925678198416897,\n",
       " 139: 0.9755122700573909,\n",
       " 140: 2.394850146791719,\n",
       " 141: 0.28257481739252865,\n",
       " 142: 0.9790448821783779,\n",
       " 143: 0.39804671086282506,\n",
       " 144: 0.2592995881477689,\n",
       " 145: 0.993668775249573,\n",
       " 146: 1.7091221305429145,\n",
       " 147: 0.9822534595040918,\n",
       " 148: 0.6814069706703839,\n",
       " 149: 1.0123000103094075,\n",
       " 150: 1.0059341493081855,\n",
       " 151: 0.9690711467831019,\n",
       " 152: 1.0006407213844564,\n",
       " 153: 1.1099142404722986,\n",
       " 154: 1.024676043658435,\n",
       " 155: 0.9831452344615872,\n",
       " 156: 1.262873614513703,\n",
       " 157: 1.0122856322661649,\n",
       " 158: 0.4830351760022891,\n",
       " 159: 0.9651169229347529,\n",
       " 160: 1.0144318854988472,\n",
       " 161: 1.0318863744224436,\n",
       " 162: 0.972337142191995,\n",
       " 163: 0.9995063145680839,\n",
       " 164: 1.006172656661084,\n",
       " 165: 1.5034214066684055,\n",
       " 166: 1.0287393778670697,\n",
       " 167: 0.9961887887803927,\n",
       " 168: 0.9961358345470034,\n",
       " 169: 0.9620296978065007,\n",
       " 170: 1.0075826029423374,\n",
       " 171: 1.3757142090911414,\n",
       " 172: 0.9759073133452468,\n",
       " 173: 1.002594484900209,\n",
       " 174: 1.131731817449894,\n",
       " 175: 1.027179597188943,\n",
       " 176: 1.0230086602805484,\n",
       " 177: 0.7656331327084778,\n",
       " 178: 0.9878875662678381,\n",
       " 179: 1.0891000686749,\n",
       " 180: 1.0186811745709623,\n",
       " 181: 1.5818966780833605,\n",
       " 182: 0.9895092550751409,\n",
       " 183: 0.9499351605772202,\n",
       " 184: 1.034398638197606,\n",
       " 185: 0.5494318403303562,\n",
       " 186: 0.8230435758821237,\n",
       " 187: 0.9855337339188663,\n",
       " 188: 1.0104101621429873,\n",
       " 189: 1.017330142679986,\n",
       " 190: 1.0294467459786765,\n",
       " 191: 0.4181755349511169,\n",
       " 192: 0.8004624369579161,\n",
       " 193: 2.9890612004180546,\n",
       " 194: 1.095865009565956,\n",
       " 195: 0.9769576126236588,\n",
       " 196: 1.0036685612564948,\n",
       " 197: 0.9778546569232738,\n",
       " 198: 0.943390079972841,\n",
       " 199: 0.8727284182392343}"
      ]
     },
     "execution_count": 146,
     "metadata": {},
     "output_type": "execute_result"
    }
   ],
   "source": [
    "role_of_neurons"
   ]
  },
  {
   "cell_type": "code",
   "execution_count": 147,
   "metadata": {},
   "outputs": [
    {
     "data": {
      "text/plain": [
       "0.024155091192327414"
      ]
     },
     "execution_count": 147,
     "metadata": {},
     "output_type": "execute_result"
    }
   ],
   "source": [
    "np.mean(np.var(main_network_dynamics[:, :, 55], axis=0))"
   ]
  },
  {
   "cell_type": "code",
   "execution_count": 148,
   "metadata": {},
   "outputs": [
    {
     "data": {
      "text/plain": [
       "[<matplotlib.lines.Line2D at 0x7f8b4e482940>]"
      ]
     },
     "execution_count": 148,
     "metadata": {},
     "output_type": "execute_result"
    },
    {
     "data": {
      "image/png": "[encoded data removed]",
      "text/plain": [
       "<Figure size 432x288 with 1 Axes>"
      ]
     },
     "metadata": {},
     "output_type": "display_data"
    }
   ],
   "source": [
    "plt.plot(np.mean(np.var(sub_network_dynamics[:, :, :], axis=1), axis=0))\n",
    "plt.plot(np.mean(np.var(sub_network_dynamics[:, :, :], axis=0), axis=0))"
   ]
  },
  {
   "cell_type": "code",
   "execution_count": 149,
   "metadata": {},
   "outputs": [
    {
     "name": "stdout",
     "output_type": "stream",
     "text": [
      "4.273729\n",
      "3.58982\n"
     ]
    }
   ],
   "source": [
    "print(np.sum(abs(model.w_in.weight.detach().numpy()[137, :])))\n",
    "print(np.sum((model.w_in.weight.detach().numpy()[137, :])))"
   ]
  },
  {
   "cell_type": "code",
   "execution_count": 150,
   "metadata": {},
   "outputs": [
    {
     "name": "stdout",
     "output_type": "stream",
     "text": [
      "5.6552186\n",
      "-1.7750611\n"
     ]
    }
   ],
   "source": [
    "print(np.sum(abs(model.w_in.weight.detach().numpy()[55, :])))\n",
    "print(np.sum((model.w_in.weight.detach().numpy()[55, :])))"
   ]
  },
  {
   "cell_type": "code",
   "execution_count": 151,
   "metadata": {},
   "outputs": [
    {
     "name": "stdout",
     "output_type": "stream",
     "text": [
      "3.6796975\n",
      "-1.392473\n"
     ]
    }
   ],
   "source": [
    "print(np.sum(abs(model.w_in.weight.detach().numpy()[14, :])))\n",
    "print(np.sum((model.w_in.weight.detach().numpy()[14, :])))"
   ]
  },
  {
   "cell_type": "code",
   "execution_count": 152,
   "metadata": {},
   "outputs": [
    {
     "name": "stdout",
     "output_type": "stream",
     "text": [
      "5.178076\n",
      "-2.0708456\n"
     ]
    }
   ],
   "source": [
    "print(np.sum(abs(model.w_in.weight.detach().numpy()[117, :])))\n",
    "print(np.sum((model.w_in.weight.detach().numpy()[117, :])))"
   ]
  },
  {
   "cell_type": "code",
   "execution_count": 153,
   "metadata": {},
   "outputs": [
    {
     "name": "stdout",
     "output_type": "stream",
     "text": [
      "2.8054883\n",
      "1.9260342\n"
     ]
    }
   ],
   "source": [
    "print(np.sum(abs(model.w_fs.weight.detach().numpy()[:, 137])))\n",
    "print(np.sum((model.w_fs.weight.detach().numpy()[:, 137])))"
   ]
  },
  {
   "cell_type": "code",
   "execution_count": 154,
   "metadata": {},
   "outputs": [
    {
     "name": "stdout",
     "output_type": "stream",
     "text": [
      "1.2992064\n",
      "0.3443804\n"
     ]
    }
   ],
   "source": [
    "print(np.sum(abs(model.w_fs.weight.detach().numpy()[:, 55])))\n",
    "print(np.sum((model.w_fs.weight.detach().numpy()[:, 55])))"
   ]
  },
  {
   "cell_type": "code",
   "execution_count": 155,
   "metadata": {},
   "outputs": [
    {
     "name": "stdout",
     "output_type": "stream",
     "text": [
      "1.6584556\n",
      "-0.39322472\n"
     ]
    }
   ],
   "source": [
    "print(np.sum(abs(model.w_fs.weight.detach().numpy()[:, 14])))\n",
    "print(np.sum((model.w_fs.weight.detach().numpy()[:, 14])))"
   ]
  },
  {
   "cell_type": "code",
   "execution_count": 156,
   "metadata": {},
   "outputs": [
    {
     "name": "stdout",
     "output_type": "stream",
     "text": [
      "1.2024891\n",
      "0.20560881\n"
     ]
    }
   ],
   "source": [
    "print(np.sum(abs(model.w_fs.weight.detach().numpy()[:, 117])))\n",
    "print(np.sum((model.w_fs.weight.detach().numpy()[:, 117])))"
   ]
  },
  {
   "cell_type": "code",
   "execution_count": 157,
   "metadata": {},
   "outputs": [
    {
     "name": "stdout",
     "output_type": "stream",
     "text": [
      "1.8934437\n",
      "1.2549578\n"
     ]
    }
   ],
   "source": [
    "print(np.sum(abs(model.w_sf.weight.detach().numpy()[137, :])))\n",
    "print(np.sum((model.w_sf.weight.detach().numpy()[137, :])))"
   ]
  },
  {
   "cell_type": "code",
   "execution_count": 158,
   "metadata": {},
   "outputs": [
    {
     "name": "stdout",
     "output_type": "stream",
     "text": [
      "2.2782106\n",
      "0.83159107\n"
     ]
    }
   ],
   "source": [
    "print(np.sum(abs(model.w_sf.weight.detach().numpy()[55, :])))\n",
    "print(np.sum((model.w_sf.weight.detach().numpy()[55, :])))"
   ]
  },
  {
   "cell_type": "code",
   "execution_count": 159,
   "metadata": {},
   "outputs": [
    {
     "name": "stdout",
     "output_type": "stream",
     "text": [
      "2.0601017\n",
      "0.5298339\n"
     ]
    }
   ],
   "source": [
    "print(np.sum(abs(model.w_sf.weight.detach().numpy()[14, :])))\n",
    "print(np.sum((model.w_sf.weight.detach().numpy()[14, :])))"
   ]
  },
  {
   "cell_type": "code",
   "execution_count": 160,
   "metadata": {},
   "outputs": [
    {
     "name": "stdout",
     "output_type": "stream",
     "text": [
      "2.0447693\n",
      "1.1913935\n"
     ]
    }
   ],
   "source": [
    "print(np.sum(abs(model.w_sf.weight.detach().numpy()[117, :])))\n",
    "print(np.sum((model.w_sf.weight.detach().numpy()[117, :])))"
   ]
  },
  {
   "cell_type": "code",
   "execution_count": 161,
   "metadata": {},
   "outputs": [
    {
     "data": {
      "text/plain": [
       "0.08141691776984665"
      ]
     },
     "execution_count": 161,
     "metadata": {},
     "output_type": "execute_result"
    }
   ],
   "source": [
    "likelihood_variance[55]"
   ]
  },
  {
   "cell_type": "code",
   "execution_count": 162,
   "metadata": {},
   "outputs": [
    {
     "data": {
      "text/plain": [
       "0.02415509119232741"
      ]
     },
     "execution_count": 162,
     "metadata": {},
     "output_type": "execute_result"
    }
   ],
   "source": [
    "prior_variance[55]"
   ]
  },
  {
   "cell_type": "code",
   "execution_count": 163,
   "metadata": {},
   "outputs": [
    {
     "data": {
      "text/plain": [
       "0.03890148572508304"
      ]
     },
     "execution_count": 163,
     "metadata": {},
     "output_type": "execute_result"
    }
   ],
   "source": [
    "likelihood_variance[137]"
   ]
  },
  {
   "cell_type": "code",
   "execution_count": 164,
   "metadata": {},
   "outputs": [
    {
     "data": {
      "text/plain": [
       "0.19191890355447297"
      ]
     },
     "execution_count": 164,
     "metadata": {},
     "output_type": "execute_result"
    }
   ],
   "source": [
    "prior_variance[137]"
   ]
  },
  {
   "cell_type": "code",
   "execution_count": 165,
   "metadata": {},
   "outputs": [
    {
     "data": {
      "text/plain": [
       "(200, 50)"
      ]
     },
     "execution_count": 165,
     "metadata": {},
     "output_type": "execute_result"
    }
   ],
   "source": [
    "model.w_sf.weight.detach().numpy().shape"
   ]
  },
  {
   "cell_type": "code",
   "execution_count": 166,
   "metadata": {},
   "outputs": [
    {
     "data": {
      "text/plain": [
       "[42, 43, 55, 59, 66, 117, 125, 140, 146, 165, 181, 193]"
      ]
     },
     "execution_count": 166,
     "metadata": {},
     "output_type": "execute_result"
    }
   ],
   "source": [
    "likelihood_neurons"
   ]
  },
  {
   "cell_type": "code",
   "execution_count": 167,
   "metadata": {},
   "outputs": [
    {
     "data": {
      "text/plain": [
       "[6, 14, 53, 100, 102, 126, 130, 137, 141, 143, 144, 158, 185, 191]"
      ]
     },
     "execution_count": 167,
     "metadata": {},
     "output_type": "execute_result"
    }
   ],
   "source": [
    "prior_neurons"
   ]
  },
  {
   "cell_type": "code",
   "execution_count": 168,
   "metadata": {},
   "outputs": [
    {
     "name": "stdout",
     "output_type": "stream",
     "text": [
      "4.3827386399110155\n"
     ]
    }
   ],
   "source": [
    "w_in_weight = 0\n",
    "count = 0\n",
    "for idx in likelihood_neurons:\n",
    "    w_in_weight += np.sum(abs(model.w_in.weight.detach().numpy()[idx, :]))\n",
    "    count += 1\n",
    "print(w_in_weight / count)"
   ]
  },
  {
   "cell_type": "code",
   "execution_count": 169,
   "metadata": {},
   "outputs": [
    {
     "name": "stdout",
     "output_type": "stream",
     "text": [
      "3.2045149207115173\n"
     ]
    }
   ],
   "source": [
    "w_in_weight = 0\n",
    "count = 0\n",
    "for idx in prior_neurons:\n",
    "    w_in_weight += np.sum(abs(model.w_in.weight.detach().numpy()[idx, :]))\n",
    "    count += 1\n",
    "print(w_in_weight / count)"
   ]
  },
  {
   "cell_type": "code",
   "execution_count": 170,
   "metadata": {},
   "outputs": [
    {
     "name": "stdout",
     "output_type": "stream",
     "text": [
      "1.1052954147259395\n"
     ]
    }
   ],
   "source": [
    "w_fs_weight = 0\n",
    "count = 0\n",
    "for idx in likelihood_neurons:\n",
    "    w_fs_weight += np.sum(abs(model.w_fs.weight.detach().numpy()[:, idx]))\n",
    "    count += 1\n",
    "print(w_fs_weight / count)"
   ]
  },
  {
   "cell_type": "code",
   "execution_count": 171,
   "metadata": {},
   "outputs": [
    {
     "name": "stdout",
     "output_type": "stream",
     "text": [
      "1.1960001268557139\n"
     ]
    }
   ],
   "source": [
    "w_fs_weight = 0\n",
    "count = 0\n",
    "for idx in prior_neurons:\n",
    "    w_fs_weight += np.sum(abs(model.w_fs.weight.detach().numpy()[:, idx]))\n",
    "    count += 1\n",
    "print(w_fs_weight / count)"
   ]
  },
  {
   "cell_type": "code",
   "execution_count": 172,
   "metadata": {},
   "outputs": [
    {
     "name": "stdout",
     "output_type": "stream",
     "text": [
      "1.6539639631907146\n"
     ]
    }
   ],
   "source": [
    "w_sf_weight = 0\n",
    "count = 0\n",
    "for idx in likelihood_neurons:\n",
    "    w_sf_weight += np.sum(abs(model.w_sf.weight.detach().numpy()[idx, :]))\n",
    "    count += 1\n",
    "print(w_sf_weight / count)"
   ]
  },
  {
   "cell_type": "code",
   "execution_count": 173,
   "metadata": {},
   "outputs": [
    {
     "name": "stdout",
     "output_type": "stream",
     "text": [
      "1.7363479392869132\n"
     ]
    }
   ],
   "source": [
    "w_sf_weight = 0\n",
    "count = 0\n",
    "for idx in prior_neurons:\n",
    "    w_sf_weight += np.sum(abs(model.w_sf.weight.detach().numpy()[idx, :]))\n",
    "    count += 1\n",
    "print(w_sf_weight / count)"
   ]
  },
  {
   "cell_type": "code",
   "execution_count": 174,
   "metadata": {},
   "outputs": [],
   "source": [
    "sub_net_var = np.mean(np.var(sub_network_dynamics[:, :, :], axis=0), axis=0)\n"
   ]
  },
  {
   "cell_type": "code",
   "execution_count": 175,
   "metadata": {},
   "outputs": [],
   "source": [
    "sub_net_var = np.mean(np.var(sub_network_dynamics[:, :, :], axis=0), axis=0)\n",
    "sub_neurons = []\n",
    "for i in range(len(sub_net_var)):\n",
    "    if sub_net_var[i] > 0.1:\n",
    "        sub_neurons.append(i)"
   ]
  },
  {
   "cell_type": "code",
   "execution_count": 176,
   "metadata": {},
   "outputs": [
    {
     "data": {
      "text/plain": [
       "[6, 10, 23, 24, 34, 35, 38]"
      ]
     },
     "execution_count": 176,
     "metadata": {},
     "output_type": "execute_result"
    }
   ],
   "source": [
    "sub_neurons"
   ]
  },
  {
   "cell_type": "code",
   "execution_count": 177,
   "metadata": {},
   "outputs": [],
   "source": [
    "sub_net_var = np.mean(np.var(sub_network_dynamics[:, :, :], axis=0), axis=0)\n",
    "sub_neurons = []\n",
    "for i in range(len(sub_net_var)):\n",
    "    if sub_net_var[i] > 0.2:\n",
    "        sub_neurons.append(i)"
   ]
  },
  {
   "cell_type": "code",
   "execution_count": 178,
   "metadata": {},
   "outputs": [
    {
     "data": {
      "text/plain": [
       "[34, 38]"
      ]
     },
     "execution_count": 178,
     "metadata": {},
     "output_type": "execute_result"
    }
   ],
   "source": [
    "sub_neurons"
   ]
  },
  {
   "cell_type": "code",
   "execution_count": 179,
   "metadata": {},
   "outputs": [
    {
     "name": "stdout",
     "output_type": "stream",
     "text": [
      "0.05643692069376508\n"
     ]
    }
   ],
   "source": [
    "w_fs_weight = 0\n",
    "count = 0\n",
    "for idx in likelihood_neurons:\n",
    "    w_fs_weight += np.sum(abs(model.w_fs.weight.detach().numpy()[sub_neurons, idx]))\n",
    "    count += 1\n",
    "print(w_fs_weight / count)"
   ]
  },
  {
   "cell_type": "code",
   "execution_count": 180,
   "metadata": {},
   "outputs": [
    {
     "name": "stdout",
     "output_type": "stream",
     "text": [
      "0.09728247865236231\n"
     ]
    }
   ],
   "source": [
    "w_fs_weight = 0\n",
    "count = 0\n",
    "for idx in prior_neurons:\n",
    "    w_fs_weight += np.sum(abs(model.w_fs.weight.detach().numpy()[sub_neurons, idx]))\n",
    "    count += 1\n",
    "print(w_fs_weight / count)"
   ]
  },
  {
   "cell_type": "code",
   "execution_count": 181,
   "metadata": {},
   "outputs": [
    {
     "name": "stdout",
     "output_type": "stream",
     "text": [
      "0.09673761824766795\n"
     ]
    }
   ],
   "source": [
    "w_sf_weight = 0\n",
    "count = 0\n",
    "for idx in likelihood_neurons:\n",
    "    w_sf_weight += np.sum(abs(model.w_sf.weight.detach().numpy()[idx, sub_neurons]))\n",
    "    count += 1\n",
    "print(w_sf_weight / count)"
   ]
  },
  {
   "cell_type": "code",
   "execution_count": 182,
   "metadata": {},
   "outputs": [
    {
     "name": "stdout",
     "output_type": "stream",
     "text": [
      "0.11659489944577217\n"
     ]
    }
   ],
   "source": [
    "w_sf_weight = 0\n",
    "count = 0\n",
    "for idx in prior_neurons:\n",
    "    w_sf_weight += np.sum(abs(model.w_sf.weight.detach().numpy()[idx, sub_neurons]))\n",
    "    count += 1\n",
    "print(w_sf_weight / count)"
   ]
  },
  {
   "cell_type": "code",
   "execution_count": 183,
   "metadata": {},
   "outputs": [
    {
     "name": "stdout",
     "output_type": "stream",
     "text": [
      "6\n",
      "14\n",
      "27\n",
      "114\n",
      "141\n"
     ]
    }
   ],
   "source": [
    "tmp = model.w_sf.weight.detach().numpy()[:, 34]\n",
    "for i in range(200):\n",
    "    if tmp[i] > 0.1:\n",
    "        print(i)"
   ]
  },
  {
   "cell_type": "code",
   "execution_count": 184,
   "metadata": {},
   "outputs": [
    {
     "name": "stdout",
     "output_type": "stream",
     "text": [
      "14\n",
      "82\n"
     ]
    }
   ],
   "source": [
    "tmp = model.w_sf.weight.detach().numpy()[:, 38]\n",
    "for i in range(200):\n",
    "    if tmp[i] > 0.1:\n",
    "        print(i)"
   ]
  },
  {
   "cell_type": "code",
   "execution_count": 185,
   "metadata": {},
   "outputs": [
    {
     "name": "stdout",
     "output_type": "stream",
     "text": [
      "1\n",
      "30\n",
      "33\n",
      "34\n"
     ]
    }
   ],
   "source": [
    "tmp = model.w_sf.weight.detach().numpy()[34, :]\n",
    "for i in range(50):\n",
    "    if tmp[i] > 0.07:\n",
    "        print(i)"
   ]
  },
  {
   "cell_type": "code",
   "execution_count": null,
   "metadata": {},
   "outputs": [],
   "source": []
  }
 ],
 "metadata": {
  "kernelspec": {
   "display_name": "Python 3",
   "language": "python",
   "name": "python3"
  },
  "language_info": {
   "codemirror_mode": {
    "name": "ipython",
    "version": 3
   },
   "file_extension": ".py",
   "mimetype": "text/x-python",
   "name": "python",
   "nbconvert_exporter": "python",
   "pygments_lexer": "ipython3",
   "version": "3.6.4"
  }
 },
 "nbformat": 4,
 "nbformat_minor": 2
}

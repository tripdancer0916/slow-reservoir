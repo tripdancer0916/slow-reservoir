{
 "cells": [
  {
   "cell_type": "code",
   "execution_count": 208,
   "metadata": {},
   "outputs": [],
   "source": [
    "import copy\n",
    "import os\n",
    "import math\n",
    "import sys\n",
    "\n",
    "import numpy as np\n",
    "import yaml\n",
    "\n",
    "import torch\n",
    "import torch.nn as nn\n",
    "import torch.nn.functional as F\n",
    "\n",
    "sys.path.append('../')\n",
    "from slow_reservoir.model import RNN\n",
    "from slow_reservoir.dataset.dynamic_state import State\n",
    "\n",
    "import matplotlib.pyplot as plt\n",
    "\n",
    "%matplotlib inline"
   ]
  },
  {
   "cell_type": "code",
   "execution_count": 209,
   "metadata": {},
   "outputs": [],
   "source": [
    "sigma_sq = 0.5"
   ]
  },
  {
   "cell_type": "code",
   "execution_count": 210,
   "metadata": {},
   "outputs": [],
   "source": [
    "def make_signal_for_prior(time_length, mu_p, sigma_p, uncertainty=0.5, g=2):\n",
    "    input_signals = np.zeros([1, time_length, 100])\n",
    "    phi = np.linspace(-2, 2, 100)\n",
    "    \n",
    "    state = State(mu=mu_p, sigma=sigma_p)\n",
    "    \n",
    "    for i in range(1):\n",
    "        signal_input = np.zeros([time_length, 100])\n",
    "        for t in range(time_length):\n",
    "            true_signal = state()\n",
    "            signal_sigma = np.sqrt(1 / g) * uncertainty\n",
    "            signal_mu = np.random.normal(true_signal, signal_sigma)\n",
    "            \n",
    "            signal_base = g * np.exp(-(signal_mu - phi) ** 2 / (2.0 * sigma_sq))\n",
    "            signal_input[t] = np.random.poisson(signal_base)\n",
    "        \n",
    "        input_signals[i] = signal_input\n",
    "        \n",
    "    return input_signals\n",
    "\n",
    "\n",
    "def make_sample_signal(g=2):\n",
    "    input_signals = np.zeros([200, 2, 100])\n",
    "    phi = np.linspace(-2, 2, 100)\n",
    "    \n",
    "    for i, signal_mu in enumerate(np.linspace(-1, 1, 200)):\n",
    "        signal_base = g * np.exp(-(signal_mu - phi) ** 2 / (2.0 * sigma_sq))\n",
    "        for t in range(2):\n",
    "            input_signals[i, t] = np.random.poisson(signal_base)\n",
    "        \n",
    "    return input_signals"
   ]
  },
  {
   "cell_type": "code",
   "execution_count": 245,
   "metadata": {},
   "outputs": [
    {
     "name": "stdout",
     "output_type": "stream",
     "text": [
      "model_name:  20220526_4\n"
     ]
    },
    {
     "data": {
      "text/plain": [
       "RNN(\n",
       "  (w_in): Linear(in_features=100, out_features=200, bias=True)\n",
       "  (w_hh): Linear(in_features=200, out_features=200, bias=True)\n",
       "  (w_out): Linear(in_features=200, out_features=1, bias=True)\n",
       "  (w_fs): Linear(in_features=200, out_features=50, bias=True)\n",
       "  (w_sf): Linear(in_features=50, out_features=200, bias=True)\n",
       "  (w_reservoir): Linear(in_features=50, out_features=50, bias=True)\n",
       "  (w_prior): Linear(in_features=50, out_features=100, bias=True)\n",
       ")"
      ]
     },
     "execution_count": 245,
     "metadata": {},
     "output_type": "execute_result"
    }
   ],
   "source": [
    "# config_path = '../slow_reservoir/trained_model/dynamic_state_random/20220526_all_slow/20220526_all_slow.cfg'\n",
    "config_path = '../slow_reservoir/trained_model/dynamic_state_random/20220526_4/20220526_4.cfg'\n",
    "with open(config_path, 'r') as f:\n",
    "    cfg = yaml.safe_load(f)\n",
    "    \n",
    "\n",
    "model_name = os.path.splitext(os.path.basename(config_path))[0]\n",
    "print('model_name: ', model_name)\n",
    "\n",
    "torch.manual_seed(1)\n",
    "device = torch.device('cpu')\n",
    "\n",
    "model = RNN(\n",
    "        n_in=cfg['DATALOADER']['INPUT_NEURON'],\n",
    "        n_out=1,\n",
    "        n_hid=cfg['MODEL']['SIZE'],\n",
    "        n_reservoir=cfg['MODEL']['RESERVOIR'],\n",
    "        device=device,\n",
    "        alpha_fast=cfg['MODEL']['ALPHA_FAST'],\n",
    "        alpha_slow=cfg['MODEL']['ALPHA_SLOW'],\n",
    "        sigma_neu=cfg['MODEL']['SIGMA_NEU'],\n",
    "    ).to(device)\n",
    "\n",
    "model_path = f'../slow_reservoir/trained_model/dynamic_state_random/{model_name}/epoch_500.pth'\n",
    "model.load_state_dict(torch.load(model_path, map_location=device))\n",
    "model.eval()\n",
    "\n"
   ]
  },
  {
   "cell_type": "code",
   "execution_count": 246,
   "metadata": {},
   "outputs": [],
   "source": [
    "mu_p = 0.3\n",
    "sigma_p = 0.3\n",
    "sigma_l = math.sqrt(1/1.25) * 0.5\n",
    "\n",
    "g = 1 / (4 * (sigma_l**2))\n",
    "# g = 1 / (4 * sigma_l)\n",
    "input_signal = make_signal_for_prior(\n",
    "    time_length=50, \n",
    "    mu_p=mu_p,\n",
    "    sigma_p=sigma_p,\n",
    "    uncertainty=0.5,\n",
    "    g=g,\n",
    ")\n",
    "inputs = torch.from_numpy(input_signal).float()                                 \n",
    "inputs = inputs.to(device) \n",
    "hidden_np = np.random.normal(0, 0.5, size=(1, cfg['MODEL']['SIZE']))\n",
    "reservoir_np = np.random.normal(0, 0.5, size=(1, cfg['MODEL']['RESERVOIR']))\n",
    "         \n",
    "hidden = torch.from_numpy(hidden_np).float()                               \n",
    "hidden = hidden.to(device) \n",
    "reservoir = torch.from_numpy(reservoir_np).float()\n",
    "reservoir = reservoir.to(device)\n",
    "hidden_list, _, _, reservoir_list = model(inputs, hidden, reservoir, 50) \n",
    "    \n",
    "neural_dynamics = hidden_list.cpu().detach().numpy()   \n",
    "reservoir_dynamics = reservoir_list.cpu().detach().numpy()\n",
    "    \n",
    "initial_state = copy.deepcopy(neural_dynamics[0, -1])\n",
    "initial_res_state = copy.deepcopy(reservoir_dynamics[0, -1])\n",
    "\n",
    "input_signal = make_sample_signal(g=g)\n",
    "hidden_np = initial_state\n",
    "hidden = torch.from_numpy(hidden_np).float()                               \n",
    "hidden = hidden.to(device)                                                   \n",
    "reservoir_np = initial_res_state\n",
    "reservoir = torch.from_numpy(reservoir_np).float()\n",
    "reservoir = reservoir.to(device)\n",
    "    \n",
    "inputs = torch.from_numpy(input_signal).float()                                 \n",
    "inputs = inputs.to(device)                                                      \n",
    "    \n",
    "_, output_list, _, _ = model(inputs, hidden, reservoir, 2)\n",
    "\n",
    "mu_l_list = np.linspace(-1, 1, 200)\n",
    "bayesian_optimal = mu_p * (sigma_l**2/(sigma_p**2+sigma_l**2)) + \\\n",
    "    mu_l_list * (sigma_p**2/(sigma_p**2+sigma_l**2))\n",
    "\n"
   ]
  },
  {
   "cell_type": "code",
   "execution_count": 247,
   "metadata": {},
   "outputs": [
    {
     "data": {
      "text/plain": [
       "(200, 2, 100)"
      ]
     },
     "execution_count": 247,
     "metadata": {},
     "output_type": "execute_result"
    }
   ],
   "source": [
    "input_signal.shape"
   ]
  },
  {
   "cell_type": "code",
   "execution_count": 248,
   "metadata": {},
   "outputs": [
    {
     "data": {
      "text/plain": [
       "1.25"
      ]
     },
     "execution_count": 248,
     "metadata": {},
     "output_type": "execute_result"
    }
   ],
   "source": [
    "g"
   ]
  },
  {
   "cell_type": "code",
   "execution_count": 249,
   "metadata": {},
   "outputs": [
    {
     "data": {
      "text/plain": [
       "<matplotlib.collections.PathCollection at 0x7ff5eca0d1d0>"
      ]
     },
     "execution_count": 249,
     "metadata": {},
     "output_type": "execute_result"
    },
    {
     "data": {
      "image/png": "[encoded data removed]",
      "text/plain": [
       "<Figure size 432x288 with 1 Axes>"
      ]
     },
     "metadata": {},
     "output_type": "display_data"
    }
   ],
   "source": [
    "plt.scatter(\n",
    "    np.linspace(-1, 1, 200), \n",
    "    output_list[:, 0, 0].detach().numpy(),\n",
    "    s=10,\n",
    ")\n",
    "plt.scatter(\n",
    "    np.linspace(-1, 1, 200), \n",
    "    bayesian_optimal,\n",
    "    s=10,\n",
    ")"
   ]
  },
  {
   "cell_type": "code",
   "execution_count": 244,
   "metadata": {},
   "outputs": [
    {
     "name": "stdout",
     "output_type": "stream",
     "text": [
      "43.48%\n"
     ]
    }
   ],
   "source": [
    "abs_loss = np.sum(abs(output_list[:, 0, 0].detach().numpy() - bayesian_optimal))\n",
    "bo_sum = np.sum(abs(bayesian_optimal))\n",
    "print(f'{100*abs_loss / bo_sum:.2f}%')"
   ]
  },
  {
   "cell_type": "markdown",
   "metadata": {},
   "source": [
    "## main-networkをランダムにした場合"
   ]
  },
  {
   "cell_type": "code",
   "execution_count": 69,
   "metadata": {},
   "outputs": [],
   "source": [
    "mu_p = 0.5\n",
    "sigma_p = 0.8\n",
    "sigma_l = math.sqrt(1/1.25) * 0.5\n",
    "\n",
    "g = 1 / (4 * (sigma_l**2))\n",
    "input_signal = make_signal_for_prior(\n",
    "    time_length=50, \n",
    "    mu_p=mu_p,\n",
    "    sigma_p=sigma_p,\n",
    "    uncertainty=0.5,\n",
    "    g=g,\n",
    ")\n",
    "inputs = torch.from_numpy(input_signal).float()                                 \n",
    "inputs = inputs.to(device) \n",
    "hidden_np = np.random.normal(0, 0.5, size=(1, cfg['MODEL']['SIZE']))\n",
    "reservoir_np = np.random.normal(0, 0.5, size=(1, cfg['MODEL']['RESERVOIR']))\n",
    "         \n",
    "hidden = torch.from_numpy(hidden_np).float()                               \n",
    "hidden = hidden.to(device) \n",
    "reservoir = torch.from_numpy(reservoir_np).float()\n",
    "reservoir = reservoir.to(device)\n",
    "hidden_list, _, _, reservoir_list = model(inputs, hidden, reservoir, 50) \n",
    "    \n",
    "neural_dynamics = hidden_list.cpu().detach().numpy()   \n",
    "reservoir_dynamics = reservoir_list.cpu().detach().numpy()\n",
    "    \n",
    "# initial_state = np.random.normal(0, 0.5, size=(1, cfg['MODEL']['SIZE']))\n",
    "initial_state = np.zeros((1, cfg['MODEL']['SIZE']))\n",
    "initial_res_state = copy.deepcopy(reservoir_dynamics[0, -1])\n",
    "\n",
    "input_signal = make_sample_signal(g=g)\n",
    "hidden_np = initial_state\n",
    "hidden = torch.from_numpy(hidden_np).float()                               \n",
    "hidden = hidden.to(device)                                                   \n",
    "reservoir_np = initial_res_state\n",
    "reservoir = torch.from_numpy(reservoir_np).float()\n",
    "reservoir = reservoir.to(device)\n",
    "    \n",
    "inputs = torch.from_numpy(input_signal).float()                                 \n",
    "inputs = inputs.to(device)                                                      \n",
    "    \n",
    "_, output_list, _, _ = model(inputs, hidden, reservoir, 2)\n",
    "\n",
    "mu_l_list = np.linspace(-1, 1, 200)\n",
    "bayesian_optimal = mu_p * (sigma_l**2/(sigma_p**2+sigma_l**2)) + \\\n",
    "    mu_l_list * (sigma_p**2/(sigma_p**2+sigma_l**2))\n",
    "\n"
   ]
  },
  {
   "cell_type": "code",
   "execution_count": 70,
   "metadata": {},
   "outputs": [
    {
     "data": {
      "text/plain": [
       "<matplotlib.collections.PathCollection at 0x7ff5ea45f668>"
      ]
     },
     "execution_count": 70,
     "metadata": {},
     "output_type": "execute_result"
    },
    {
     "data": {
      "image/png": "[encoded data removed]",
      "text/plain": [
       "<Figure size 432x288 with 1 Axes>"
      ]
     },
     "metadata": {},
     "output_type": "display_data"
    }
   ],
   "source": [
    "plt.scatter(\n",
    "    np.linspace(-1, 1, 200), \n",
    "    output_list[:, 0, 0].detach().numpy(),\n",
    "    s=10,\n",
    ")\n",
    "plt.scatter(\n",
    "    np.linspace(-1, 1, 200), \n",
    "    bayesian_optimal,\n",
    "    s=10,\n",
    ")"
   ]
  },
  {
   "cell_type": "code",
   "execution_count": 71,
   "metadata": {},
   "outputs": [
    {
     "name": "stdout",
     "output_type": "stream",
     "text": [
      "38.01%\n"
     ]
    }
   ],
   "source": [
    "abs_loss = np.sum(abs(output_list[:, 0, 0].detach().numpy() - bayesian_optimal))\n",
    "bo_sum = np.sum(abs(bayesian_optimal))\n",
    "print(f'{100*abs_loss / bo_sum:.2f}%')"
   ]
  },
  {
   "cell_type": "markdown",
   "metadata": {},
   "source": [
    "## Sub-networkをランダムにした場合"
   ]
  },
  {
   "cell_type": "code",
   "execution_count": 72,
   "metadata": {},
   "outputs": [],
   "source": [
    "mu_p = 0.5\n",
    "sigma_p = 0.8\n",
    "sigma_l = math.sqrt(1/1.25) * 0.5\n",
    "\n",
    "g = 1 / (4 * (sigma_l**2))\n",
    "input_signal = make_signal_for_prior(\n",
    "    time_length=50, \n",
    "    mu_p=mu_p,\n",
    "    sigma_p=sigma_p,\n",
    "    uncertainty=0.5,\n",
    "    g=g,\n",
    ")\n",
    "inputs = torch.from_numpy(input_signal).float()                                 \n",
    "inputs = inputs.to(device) \n",
    "hidden_np = np.random.normal(0, 0.5, size=(1, cfg['MODEL']['SIZE']))\n",
    "reservoir_np = np.random.normal(0, 0.5, size=(1, cfg['MODEL']['RESERVOIR']))\n",
    "         \n",
    "hidden = torch.from_numpy(hidden_np).float()                               \n",
    "hidden = hidden.to(device) \n",
    "reservoir = torch.from_numpy(reservoir_np).float()\n",
    "reservoir = reservoir.to(device)\n",
    "hidden_list, _, _, reservoir_list = model(inputs, hidden, reservoir, 50) \n",
    "    \n",
    "neural_dynamics = hidden_list.cpu().detach().numpy()   \n",
    "reservoir_dynamics = reservoir_list.cpu().detach().numpy()\n",
    "    \n",
    "initial_state = copy.deepcopy(neural_dynamics[0, -1])\n",
    "# initial_res_state = np.random.normal(0, 0.5, size=(1, cfg['MODEL']['RESERVOIR']))\n",
    "initial_res_state = np.zeros((1, cfg['MODEL']['RESERVOIR']))\n",
    "\n",
    "input_signal = make_sample_signal(g=g)\n",
    "\n",
    "hidden_np = initial_state\n",
    "hidden = torch.from_numpy(hidden_np).float()                               \n",
    "hidden = hidden.to(device)                                                   \n",
    "reservoir_np = initial_res_state\n",
    "reservoir = torch.from_numpy(reservoir_np).float()\n",
    "reservoir = reservoir.to(device)\n",
    "    \n",
    "inputs = torch.from_numpy(input_signal).float()                                 \n",
    "inputs = inputs.to(device)                                                      \n",
    "    \n",
    "_, output_list, _, _ = model(inputs, hidden, reservoir, 1)\n",
    "\n",
    "mu_l_list = np.linspace(-1, 1, 200)\n",
    "bayesian_optimal = mu_p * (sigma_l**2/(sigma_p**2+sigma_l**2)) + \\\n",
    "    mu_l_list * (sigma_p**2/(sigma_p**2+sigma_l**2))\n",
    "\n"
   ]
  },
  {
   "cell_type": "code",
   "execution_count": 73,
   "metadata": {},
   "outputs": [
    {
     "data": {
      "text/plain": [
       "<matplotlib.collections.PathCollection at 0x7ff5ea491be0>"
      ]
     },
     "execution_count": 73,
     "metadata": {},
     "output_type": "execute_result"
    },
    {
     "data": {
      "image/png": "[encoded data removed]",
      "text/plain": [
       "<Figure size 432x288 with 1 Axes>"
      ]
     },
     "metadata": {},
     "output_type": "display_data"
    }
   ],
   "source": [
    "plt.scatter(\n",
    "    np.linspace(-1, 1, 200), \n",
    "    output_list[:, 0, 0].detach().numpy(),\n",
    "    s=10,\n",
    ")\n",
    "plt.scatter(\n",
    "    np.linspace(-1, 1, 200), \n",
    "    bayesian_optimal,\n",
    "    s=10,\n",
    ")"
   ]
  },
  {
   "cell_type": "code",
   "execution_count": 74,
   "metadata": {},
   "outputs": [
    {
     "name": "stdout",
     "output_type": "stream",
     "text": [
      "70.53%\n"
     ]
    }
   ],
   "source": [
    "abs_loss = np.sum(abs(output_list[:, 0, 0].detach().numpy() - bayesian_optimal))\n",
    "bo_sum = np.sum(abs(bayesian_optimal))\n",
    "print(f'{100*abs_loss / bo_sum:.2f}%')"
   ]
  },
  {
   "cell_type": "code",
   "execution_count": 16,
   "metadata": {},
   "outputs": [
    {
     "data": {
      "text/plain": [
       "array([0. , 0.1, 0.2, 0.3, 0.4, 0.5])"
      ]
     },
     "execution_count": 16,
     "metadata": {},
     "output_type": "execute_result"
    }
   ],
   "source": [
    "np.linspace(0, 0.5, 6)"
   ]
  },
  {
   "cell_type": "code",
   "execution_count": 17,
   "metadata": {},
   "outputs": [
    {
     "data": {
      "text/plain": [
       "array([-0.5, -0.4, -0.3, -0.2, -0.1,  0. ,  0.1,  0.2,  0.3,  0.4,  0.5])"
      ]
     },
     "execution_count": 17,
     "metadata": {},
     "output_type": "execute_result"
    }
   ],
   "source": [
    "np.linspace(-0.5, 0.5, 11)"
   ]
  },
  {
   "cell_type": "code",
   "execution_count": null,
   "metadata": {},
   "outputs": [],
   "source": []
  },
  {
   "cell_type": "code",
   "execution_count": null,
   "metadata": {},
   "outputs": [],
   "source": []
  }
 ],
 "metadata": {
  "kernelspec": {
   "display_name": "Python 3",
   "language": "python",
   "name": "python3"
  },
  "language_info": {
   "codemirror_mode": {
    "name": "ipython",
    "version": 3
   },
   "file_extension": ".py",
   "mimetype": "text/x-python",
   "name": "python",
   "nbconvert_exporter": "python",
   "pygments_lexer": "ipython3",
   "version": "3.6.4"
  }
 },
 "nbformat": 4,
 "nbformat_minor": 2
}

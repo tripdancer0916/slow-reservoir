{
 "cells": [
  {
   "cell_type": "markdown",
   "metadata": {},
   "source": [
    "## 概要\n",
    "これまでの実験ではニューロンの時間スケール$\\alpha_{main}, \\alpha_{sub}$を固定して学習を行なったが、これを学習可能にした条件下で同様にモデルの学習を実施した。\n",
    "\n",
    "この条件のもとで、時間スケールの分布がどのようなものになるのかを調べるのが目的である。\n",
    "\n",
    "なお、学習はpriorが切り替わる確率$p_t$を変えた4つの環境でそれぞれ実施し、「priorの時間スケール」とニューロンの時間スケールの間にある関係についても調べた。"
   ]
  },
  {
   "cell_type": "code",
   "execution_count": 60,
   "metadata": {},
   "outputs": [],
   "source": [
    "import os\n",
    "import math\n",
    "\n",
    "import matplotlib\n",
    "import numpy as np\n",
    "import sys\n",
    "import scipy\n",
    "import yaml\n",
    "\n",
    "from sklearn.metrics import mean_squared_error\n",
    "\n",
    "sys.path.append('../')\n",
    "import torch\n",
    "import torch.nn as nn\n",
    "import torch.nn.functional as F\n",
    "\n",
    "import matplotlib.pyplot as plt\n",
    "from mpl_toolkits.mplot3d import Axes3D\n",
    "\n",
    "from sklearn.decomposition import PCA\n",
    "from matplotlib import cm\n",
    "\n",
    "from slow_reservoir.model import RNNTrainableAlpha, RNNSimple\n",
    "from slow_reservoir.dataset.dynamic_state import State\n",
    "\n",
    "%matplotlib inline"
   ]
  },
  {
   "cell_type": "markdown",
   "metadata": {},
   "source": [
    "### $p_t=0.3$: 非常に早くpriorが変わる環境"
   ]
  },
  {
   "cell_type": "code",
   "execution_count": 61,
   "metadata": {},
   "outputs": [
    {
     "name": "stdout",
     "output_type": "stream",
     "text": [
      "model_name:  20220609_fast_env\n"
     ]
    }
   ],
   "source": [
    "config_path = '../slow_reservoir/trained_model/dynamic_state_random/20220609_fast_env/20220609_fast_env.cfg'\n",
    "with open(config_path, 'r') as f:\n",
    "    cfg = yaml.safe_load(f)\n",
    "    \n",
    "\n",
    "model_name = os.path.splitext(os.path.basename(config_path))[0]\n",
    "print('model_name: ', model_name)\n",
    "\n",
    "torch.manual_seed(1)\n",
    "device = torch.device('cpu')\n",
    "\n",
    "model = RNNTrainableAlpha(\n",
    "    n_in=cfg['DATALOADER']['INPUT_NEURON'],\n",
    "    n_out=1,\n",
    "    n_hid=cfg['MODEL']['SIZE'],\n",
    "    n_reservoir=cfg['MODEL']['RESERVOIR'],\n",
    "    device=device,\n",
    "    sigma_neu=cfg['MODEL']['SIGMA_NEU'],\n",
    ").to(device)\n",
    "\n",
    "alpha_fast_list = np.zeros(200*11)\n",
    "alpha_slow_list = np.zeros(50*11)\n",
    "for i in range(11):\n",
    "    model_path = f'../slow_reservoir/trained_model/dynamic_state_random/{model_name}/epoch_{1000+i*100}.pth'\n",
    "    model.load_state_dict(torch.load(model_path, map_location=device))\n",
    "    model.eval()\n",
    "    \n",
    "    alpha_fast_list[i*200: (i+1)*200] = model.alpha_fast.detach().numpy()\n",
    "    alpha_slow_list[i*50: (i+1)*50] = model.alpha_slow.detach().numpy()\n",
    "\n"
   ]
  },
  {
   "cell_type": "code",
   "execution_count": 62,
   "metadata": {},
   "outputs": [
    {
     "data": {
      "image/png": "[encoded data removed]",
      "text/plain": [
       "<Figure size 432x288 with 1 Axes>"
      ]
     },
     "metadata": {},
     "output_type": "display_data"
    }
   ],
   "source": [
    "plt.hist(alpha_fast_list, bins=50, alpha=0.5, label=r'$\\alpha_{main}$')\n",
    "plt.hist(alpha_slow_list, bins=50, alpha=0.5, label=r'$\\alpha_{sub}$')\n",
    "\n",
    "plt.legend(fontsize=16)\n",
    "plt.gca().spines['right'].set_visible(False)\n",
    "plt.gca().spines['top'].set_visible(False)\n",
    "plt.gca().yaxis.set_ticks_position('left')\n",
    "plt.gca().xaxis.set_ticks_position('bottom')\n",
    "\n",
    "plt.title(r'Frequency distribution of neuron\\'s  time scales $\\alpha$', fontsize=18)\n",
    "plt.show()"
   ]
  },
  {
   "cell_type": "markdown",
   "metadata": {},
   "source": [
    "### $p_t=0.1$: 中程度の速度でpriorが切り替わる環境"
   ]
  },
  {
   "cell_type": "code",
   "execution_count": 63,
   "metadata": {},
   "outputs": [
    {
     "name": "stdout",
     "output_type": "stream",
     "text": [
      "model_name:  20220609_middle_env\n"
     ]
    }
   ],
   "source": [
    "config_path = '../slow_reservoir/trained_model/dynamic_state_random/20220609_middle_env/20220609_middle_env.cfg'\n",
    "with open(config_path, 'r') as f:\n",
    "    cfg = yaml.safe_load(f)\n",
    "    \n",
    "\n",
    "model_name = os.path.splitext(os.path.basename(config_path))[0]\n",
    "print('model_name: ', model_name)\n",
    "\n",
    "torch.manual_seed(1)\n",
    "device = torch.device('cpu')\n",
    "\n",
    "model = RNNTrainableAlpha(\n",
    "    n_in=cfg['DATALOADER']['INPUT_NEURON'],\n",
    "    n_out=1,\n",
    "    n_hid=cfg['MODEL']['SIZE'],\n",
    "    n_reservoir=cfg['MODEL']['RESERVOIR'],\n",
    "    device=device,\n",
    "    sigma_neu=cfg['MODEL']['SIGMA_NEU'],\n",
    ").to(device)\n",
    "\n",
    "alpha_fast_list = np.zeros(200*11)\n",
    "alpha_slow_list = np.zeros(50*11)\n",
    "for i in range(11):\n",
    "    model_path = f'../slow_reservoir/trained_model/dynamic_state_random/{model_name}/epoch_{1000+i*100}.pth'\n",
    "    model.load_state_dict(torch.load(model_path, map_location=device))\n",
    "    model.eval()\n",
    "    \n",
    "    alpha_fast_list[i*200: (i+1)*200] = model.alpha_fast.detach().numpy()\n",
    "    alpha_slow_list[i*50: (i+1)*50] = model.alpha_slow.detach().numpy()\n",
    "\n"
   ]
  },
  {
   "cell_type": "code",
   "execution_count": 64,
   "metadata": {},
   "outputs": [
    {
     "data": {
      "image/png": "[encoded data removed]",
      "text/plain": [
       "<Figure size 432x288 with 1 Axes>"
      ]
     },
     "metadata": {},
     "output_type": "display_data"
    }
   ],
   "source": [
    "plt.hist(alpha_fast_list, bins=50, alpha=0.5, label=r'$\\alpha_{main}$')\n",
    "plt.hist(alpha_slow_list, bins=50, alpha=0.5, label=r'$\\alpha_{sub}$')\n",
    "\n",
    "plt.legend(fontsize=16)\n",
    "plt.gca().spines['right'].set_visible(False)\n",
    "plt.gca().spines['top'].set_visible(False)\n",
    "plt.gca().yaxis.set_ticks_position('left')\n",
    "plt.gca().xaxis.set_ticks_position('bottom')\n",
    "\n",
    "plt.title(r'Frequency distribution of neuron\\'s  time scales $\\alpha$', fontsize=18)\n",
    "plt.show()"
   ]
  },
  {
   "cell_type": "markdown",
   "metadata": {},
   "source": [
    "### $p_t=0.03$: ゆっくりとpriorが切り替わる環境"
   ]
  },
  {
   "cell_type": "code",
   "execution_count": 65,
   "metadata": {},
   "outputs": [
    {
     "name": "stdout",
     "output_type": "stream",
     "text": [
      "model_name:  20220609_slow_env\n"
     ]
    }
   ],
   "source": [
    "config_path = '../slow_reservoir/trained_model/dynamic_state_random/20220609_slow_env/20220609_slow_env.cfg'\n",
    "with open(config_path, 'r') as f:\n",
    "    cfg = yaml.safe_load(f)\n",
    "    \n",
    "\n",
    "model_name = os.path.splitext(os.path.basename(config_path))[0]\n",
    "print('model_name: ', model_name)\n",
    "\n",
    "torch.manual_seed(1)\n",
    "device = torch.device('cpu')\n",
    "\n",
    "model = RNNTrainableAlpha(\n",
    "    n_in=cfg['DATALOADER']['INPUT_NEURON'],\n",
    "    n_out=1,\n",
    "    n_hid=cfg['MODEL']['SIZE'],\n",
    "    n_reservoir=cfg['MODEL']['RESERVOIR'],\n",
    "    device=device,\n",
    "    sigma_neu=cfg['MODEL']['SIGMA_NEU'],\n",
    ").to(device)\n",
    "\n",
    "alpha_fast_list = np.zeros(200*11)\n",
    "alpha_slow_list = np.zeros(50*11)\n",
    "for i in range(11):\n",
    "    model_path = f'../slow_reservoir/trained_model/dynamic_state_random/{model_name}/epoch_{1000+i*100}.pth'\n",
    "    model.load_state_dict(torch.load(model_path, map_location=device))\n",
    "    model.eval()\n",
    "    \n",
    "    alpha_fast_list[i*200: (i+1)*200] = model.alpha_fast.detach().numpy()\n",
    "    alpha_slow_list[i*50: (i+1)*50] = model.alpha_slow.detach().numpy()\n",
    "\n"
   ]
  },
  {
   "cell_type": "code",
   "execution_count": 66,
   "metadata": {},
   "outputs": [
    {
     "data": {
      "image/png": "[encoded data removed]",
      "text/plain": [
       "<Figure size 432x288 with 1 Axes>"
      ]
     },
     "metadata": {},
     "output_type": "display_data"
    }
   ],
   "source": [
    "plt.hist(alpha_fast_list, bins=50, alpha=0.5, label=r'$\\alpha_{main}$')\n",
    "plt.hist(alpha_slow_list, bins=50, alpha=0.5, label=r'$\\alpha_{sub}$')\n",
    "\n",
    "plt.legend(fontsize=16)\n",
    "plt.gca().spines['right'].set_visible(False)\n",
    "plt.gca().spines['top'].set_visible(False)\n",
    "plt.gca().yaxis.set_ticks_position('left')\n",
    "plt.gca().xaxis.set_ticks_position('bottom')\n",
    "\n",
    "plt.title(r'Frequency distribution of neuron\\'s  time scales $\\alpha$', fontsize=18)\n",
    "plt.show()"
   ]
  },
  {
   "cell_type": "markdown",
   "metadata": {},
   "source": [
    "### $p_t=0$: 完全にpriorが停止した環境"
   ]
  },
  {
   "cell_type": "code",
   "execution_count": 67,
   "metadata": {},
   "outputs": [
    {
     "name": "stdout",
     "output_type": "stream",
     "text": [
      "model_name:  20220609_stable_env\n"
     ]
    }
   ],
   "source": [
    "config_path = '../slow_reservoir/trained_model/dynamic_state_random/20220609_stable_env/20220609_stable_env.cfg'\n",
    "with open(config_path, 'r') as f:\n",
    "    cfg = yaml.safe_load(f)\n",
    "    \n",
    "\n",
    "model_name = os.path.splitext(os.path.basename(config_path))[0]\n",
    "print('model_name: ', model_name)\n",
    "\n",
    "torch.manual_seed(1)\n",
    "device = torch.device('cpu')\n",
    "\n",
    "model = RNNTrainableAlpha(\n",
    "    n_in=cfg['DATALOADER']['INPUT_NEURON'],\n",
    "    n_out=1,\n",
    "    n_hid=cfg['MODEL']['SIZE'],\n",
    "    n_reservoir=cfg['MODEL']['RESERVOIR'],\n",
    "    device=device,\n",
    "    sigma_neu=cfg['MODEL']['SIGMA_NEU'],\n",
    ").to(device)\n",
    "\n",
    "alpha_fast_list = np.zeros(200*11)\n",
    "alpha_slow_list = np.zeros(50*11)\n",
    "for i in range(11):\n",
    "    model_path = f'../slow_reservoir/trained_model/dynamic_state_random/{model_name}/epoch_{1000+i*100}.pth'\n",
    "    model.load_state_dict(torch.load(model_path, map_location=device))\n",
    "    model.eval()\n",
    "    \n",
    "    alpha_fast_list[i*200: (i+1)*200] = model.alpha_fast.detach().numpy()\n",
    "    alpha_slow_list[i*50: (i+1)*50] = model.alpha_slow.detach().numpy()\n",
    "\n"
   ]
  },
  {
   "cell_type": "code",
   "execution_count": 68,
   "metadata": {},
   "outputs": [
    {
     "data": {
      "image/png": "[encoded data removed]",
      "text/plain": [
       "<Figure size 432x288 with 1 Axes>"
      ]
     },
     "metadata": {},
     "output_type": "display_data"
    }
   ],
   "source": [
    "plt.hist(alpha_fast_list, bins=50, alpha=0.5, label=r'$\\alpha_{main}$')\n",
    "plt.hist(alpha_slow_list, bins=50, alpha=0.5, label=r'$\\alpha_{sub}$')\n",
    "\n",
    "plt.legend(fontsize=16)\n",
    "plt.gca().spines['right'].set_visible(False)\n",
    "plt.gca().spines['top'].set_visible(False)\n",
    "plt.gca().yaxis.set_ticks_position('left')\n",
    "plt.gca().xaxis.set_ticks_position('bottom')\n",
    "\n",
    "plt.title(r'Frequency distribution of neuron\\'s  time scales $\\alpha$', fontsize=18)\n",
    "plt.show()"
   ]
  },
  {
   "cell_type": "markdown",
   "metadata": {},
   "source": [
    "## 考察\n",
    "\n",
    "まずサブネットワークのニューロンの時間スケールの分布には特徴が見られず、メインネットワークのみで推論が行われていることが示唆される。\n",
    "\n",
    "メインネットワークのニューロンの時間スケールに着目すると、どの環境で学習した場合でも速いニューロン($\\alpha_{main}=1$)と遅いニューロン($\\alpha_{main}=0\\sim 0.25$)の集団に分かれていることが分かる。これは時間スケールが分離しているほうがベイズ推定に有利というこれまでの結果と整合する。\n",
    "\n",
    "また、遅いニューロンの平均的な時間スケールは、環境の時間スケールが速くなるにつれて速くなっていることも確認できる。この現象がどのような原理に基づくものであるかは引き続き調べていく必要がある。"
   ]
  },
  {
   "cell_type": "code",
   "execution_count": null,
   "metadata": {},
   "outputs": [],
   "source": []
  }
 ],
 "metadata": {
  "kernelspec": {
   "display_name": "Python 3",
   "language": "python",
   "name": "python3"
  },
  "language_info": {
   "codemirror_mode": {
    "name": "ipython",
    "version": 3
   },
   "file_extension": ".py",
   "mimetype": "text/x-python",
   "name": "python",
   "nbconvert_exporter": "python",
   "pygments_lexer": "ipython3",
   "version": "3.6.4"
  }
 },
 "nbformat": 4,
 "nbformat_minor": 2
}
